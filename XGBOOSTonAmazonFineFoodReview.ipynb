{
 "cells": [
  {
   "cell_type": "markdown",
   "metadata": {
    "id": "pI2r_SRyLs2H"
   },
   "source": [
    "# Amazon Fine Food Reviews Analysis\n",
    "\n",
    "\n",
    "Data Source: https://www.kaggle.com/snap/amazon-fine-food-reviews <br>\n",
    "\n",
    "EDA: https://nycdatascience.com/blog/student-works/amazon-fine-foods-visualization/\n",
    "\n",
    "\n",
    "The Amazon Fine Food Reviews dataset consists of reviews of fine foods from Amazon.<br>\n",
    "\n",
    "Number of reviews: 568,454<br>\n",
    "Number of users: 256,059<br>\n",
    "Number of products: 74,258<br>\n",
    "Timespan: Oct 1999 - Oct 2012<br>\n",
    "Number of Attributes/Columns in data: 10 \n",
    "\n",
    "Attribute Information:\n",
    "\n",
    "1. Id\n",
    "2. ProductId - unique identifier for the product\n",
    "3. UserId - unqiue identifier for the user\n",
    "4. ProfileName\n",
    "5. HelpfulnessNumerator - number of users who found the review helpful\n",
    "6. HelpfulnessDenominator - number of users who indicated whether they found the review helpful or not\n",
    "7. Score - rating between 1 and 5\n",
    "8. Time - timestamp for the review\n",
    "9. Summary - brief summary of the review\n",
    "10. Text - text of the review\n",
    "\n",
    "\n",
    "#### Objective:\n",
    "Given a review, determine whether the review is positive (rating of 4 or 5) or negative (rating of 1 or 2).\n",
    "\n",
    "<br>\n",
    "[Q] How to determine if a review is positive or negative?<br>\n",
    "<br> \n",
    "[Ans] We could use Score/Rating. A rating of 4 or 5 can be cosnidered as a positive review. A rating of 1 or 2 can be considered as negative one. A review of rating 3 is considered nuetral and such reviews are ignored from our analysis. This is an approximate and proxy way of determining the polarity (positivity/negativity) of a review.\n",
    "\n",
    "\n"
   ]
  },
  {
   "cell_type": "markdown",
   "metadata": {
    "id": "_qeGSFEELs2L"
   },
   "source": [
    "# [1]. Reading Data"
   ]
  },
  {
   "cell_type": "markdown",
   "metadata": {
    "id": "B54glUYgLs2N"
   },
   "source": [
    "## [1.1] Loading the data\n",
    "\n",
    "The dataset is available in two forms\n",
    "1. .csv file\n",
    "2. SQLite Database\n",
    "\n",
    "In order to load the data, We have used the SQLITE dataset as it is easier to query the data and visualise the data efficiently.\n",
    "<br> \n",
    "\n",
    "Here as we only want to get the global sentiment of the recommendations (positive or negative), we will purposefully ignore all Scores equal to 3. If the score is above 3, then the recommendation wil be set to \"positive\". Otherwise, it will be set to \"negative\"."
   ]
  },
  {
   "cell_type": "code",
   "execution_count": 1,
   "metadata": {
    "colab": {
     "base_uri": "https://localhost:8080/"
    },
    "executionInfo": {
     "elapsed": 35670,
     "status": "ok",
     "timestamp": 1625028070310,
     "user": {
      "displayName": "Guruprasad G",
      "photoUrl": "https://lh3.googleusercontent.com/a-/AOh14GgIKqebW6jPdcnAVVp4f7tNOulz7_njQ-p26wPA=s64",
      "userId": "08997559224978829775"
     },
     "user_tz": -330
    },
    "id": "hzXbq1evg9xG",
    "outputId": "bdf36354-825b-4c2e-93a2-1f87b154ad25"
   },
   "outputs": [
    {
     "name": "stdout",
     "output_type": "stream",
     "text": [
      "Collecting gensim\n",
      "\u001b[?25l  Downloading https://files.pythonhosted.org/packages/44/52/f1417772965652d4ca6f901515debcd9d6c5430969e8c02ee7737e6de61c/gensim-4.0.1-cp37-cp37m-manylinux1_x86_64.whl (23.9MB)\n",
      "\u001b[K     |████████████████████████████████| 23.9MB 126kB/s \n",
      "\u001b[?25hRequirement already satisfied, skipping upgrade: scipy>=0.18.1 in /usr/local/lib/python3.7/dist-packages (from gensim) (1.4.1)\n",
      "Requirement already satisfied, skipping upgrade: numpy>=1.11.3 in /usr/local/lib/python3.7/dist-packages (from gensim) (1.19.5)\n",
      "Requirement already satisfied, skipping upgrade: smart-open>=1.8.1 in /usr/local/lib/python3.7/dist-packages (from gensim) (5.1.0)\n",
      "Installing collected packages: gensim\n",
      "  Found existing installation: gensim 3.6.0\n",
      "    Uninstalling gensim-3.6.0:\n",
      "      Successfully uninstalled gensim-3.6.0\n",
      "Successfully installed gensim-4.0.1\n",
      "Collecting xgboost\n",
      "\u001b[?25l  Downloading https://files.pythonhosted.org/packages/bb/35/169eec194bf1f9ef52ed670f5032ef2abaf6ed285cfadcb4b6026b800fc9/xgboost-1.4.2-py3-none-manylinux2010_x86_64.whl (166.7MB)\n",
      "\u001b[K     |████████████████████████████████| 166.7MB 70kB/s \n",
      "\u001b[?25hRequirement already satisfied, skipping upgrade: scipy in /usr/local/lib/python3.7/dist-packages (from xgboost) (1.4.1)\n",
      "Requirement already satisfied, skipping upgrade: numpy in /usr/local/lib/python3.7/dist-packages (from xgboost) (1.19.5)\n",
      "Installing collected packages: xgboost\n",
      "  Found existing installation: xgboost 0.90\n",
      "    Uninstalling xgboost-0.90:\n",
      "      Successfully uninstalled xgboost-0.90\n",
      "Successfully installed xgboost-1.4.2\n"
     ]
    }
   ],
   "source": [
    "!pip install --upgrade gensim\n",
    "!pip install --upgrade xgboost"
   ]
  },
  {
   "cell_type": "code",
   "execution_count": 2,
   "metadata": {
    "colab": {
     "base_uri": "https://localhost:8080/"
    },
    "executionInfo": {
     "elapsed": 194818,
     "status": "ok",
     "timestamp": 1625028265125,
     "user": {
      "displayName": "Guruprasad G",
      "photoUrl": "https://lh3.googleusercontent.com/a-/AOh14GgIKqebW6jPdcnAVVp4f7tNOulz7_njQ-p26wPA=s64",
      "userId": "08997559224978829775"
     },
     "user_tz": -330
    },
    "id": "ARehejp3g9xH",
    "outputId": "4fcb8c7c-4e22-4915-c520-c0590656bd09"
   },
   "outputs": [
    {
     "name": "stdout",
     "output_type": "stream",
     "text": [
      "Mounted at /content/drive\n"
     ]
    }
   ],
   "source": [
    "from google.colab import drive\n",
    "drive.mount('/content/drive')"
   ]
  },
  {
   "cell_type": "code",
   "execution_count": 3,
   "metadata": {
    "executionInfo": {
     "elapsed": 2049,
     "status": "ok",
     "timestamp": 1625028267169,
     "user": {
      "displayName": "Guruprasad G",
      "photoUrl": "https://lh3.googleusercontent.com/a-/AOh14GgIKqebW6jPdcnAVVp4f7tNOulz7_njQ-p26wPA=s64",
      "userId": "08997559224978829775"
     },
     "user_tz": -330
    },
    "id": "TKX2L4tCLs2Q"
   },
   "outputs": [],
   "source": [
    "%matplotlib inline\n",
    "import warnings\n",
    "warnings.filterwarnings(\"ignore\")\n",
    "\n",
    "\n",
    "import sqlite3\n",
    "import pandas as pd\n",
    "import numpy as np\n",
    "import nltk\n",
    "import string\n",
    "import matplotlib.pyplot as plt\n",
    "import seaborn as sns\n",
    "import pydot\n",
    "from sklearn import tree\n",
    "from io import StringIO\n",
    "from wordcloud import WordCloud\n",
    "from IPython.display import display, HTML, Image\n",
    "from sklearn.feature_extraction.text import TfidfTransformer\n",
    "from sklearn.feature_extraction.text import TfidfVectorizer\n",
    "\n",
    "from sklearn.feature_extraction.text import CountVectorizer\n",
    "from sklearn.metrics import confusion_matrix\n",
    "from sklearn import metrics\n",
    "from sklearn.metrics import roc_curve, auc\n",
    "from nltk.stem.porter import PorterStemmer\n",
    "\n",
    "import re\n",
    "# Tutorial about Python regular expressions: https://pymotw.com/2/re/\n",
    "import string\n",
    "from nltk.corpus import stopwords\n",
    "from nltk.stem import PorterStemmer\n",
    "from nltk.stem.wordnet import WordNetLemmatizer\n",
    "\n",
    "from gensim.models import Word2Vec\n",
    "from gensim.models import KeyedVectors\n",
    "import pickle\n",
    "\n",
    "from tqdm import tqdm\n",
    "import os"
   ]
  },
  {
   "cell_type": "code",
   "execution_count": 4,
   "metadata": {
    "executionInfo": {
     "elapsed": 28,
     "status": "ok",
     "timestamp": 1625028267187,
     "user": {
      "displayName": "Guruprasad G",
      "photoUrl": "https://lh3.googleusercontent.com/a-/AOh14GgIKqebW6jPdcnAVVp4f7tNOulz7_njQ-p26wPA=s64",
      "userId": "08997559224978829775"
     },
     "user_tz": -330
    },
    "id": "AL1Jm0wug9xH"
   },
   "outputs": [],
   "source": [
    "os.chdir(r'/content/drive/MyDrive/AI/AppliedAI/Datasets')"
   ]
  },
  {
   "cell_type": "code",
   "execution_count": 5,
   "metadata": {
    "colab": {
     "base_uri": "https://localhost:8080/",
     "height": 0
    },
    "executionInfo": {
     "elapsed": 2460,
     "status": "ok",
     "timestamp": 1625028269626,
     "user": {
      "displayName": "Guruprasad G",
      "photoUrl": "https://lh3.googleusercontent.com/a-/AOh14GgIKqebW6jPdcnAVVp4f7tNOulz7_njQ-p26wPA=s64",
      "userId": "08997559224978829775"
     },
     "user_tz": -330
    },
    "id": "MvHf1f__Ls2Y",
    "outputId": "ca9e3914-19e4-488e-caad-403fa14bd69b"
   },
   "outputs": [
    {
     "name": "stdout",
     "output_type": "stream",
     "text": [
      "Number of data points in our data (50000, 10)\n"
     ]
    },
    {
     "data": {
      "text/html": [
       "<div>\n",
       "<style scoped>\n",
       "    .dataframe tbody tr th:only-of-type {\n",
       "        vertical-align: middle;\n",
       "    }\n",
       "\n",
       "    .dataframe tbody tr th {\n",
       "        vertical-align: top;\n",
       "    }\n",
       "\n",
       "    .dataframe thead th {\n",
       "        text-align: right;\n",
       "    }\n",
       "</style>\n",
       "<table border=\"1\" class=\"dataframe\">\n",
       "  <thead>\n",
       "    <tr style=\"text-align: right;\">\n",
       "      <th></th>\n",
       "      <th>Id</th>\n",
       "      <th>ProductId</th>\n",
       "      <th>UserId</th>\n",
       "      <th>ProfileName</th>\n",
       "      <th>HelpfulnessNumerator</th>\n",
       "      <th>HelpfulnessDenominator</th>\n",
       "      <th>Score</th>\n",
       "      <th>Time</th>\n",
       "      <th>Summary</th>\n",
       "      <th>Text</th>\n",
       "    </tr>\n",
       "  </thead>\n",
       "  <tbody>\n",
       "    <tr>\n",
       "      <th>0</th>\n",
       "      <td>1</td>\n",
       "      <td>B001E4KFG0</td>\n",
       "      <td>A3SGXH7AUHU8GW</td>\n",
       "      <td>delmartian</td>\n",
       "      <td>1</td>\n",
       "      <td>1</td>\n",
       "      <td>1</td>\n",
       "      <td>1303862400</td>\n",
       "      <td>Good Quality Dog Food</td>\n",
       "      <td>I have bought several of the Vitality canned d...</td>\n",
       "    </tr>\n",
       "    <tr>\n",
       "      <th>1</th>\n",
       "      <td>2</td>\n",
       "      <td>B00813GRG4</td>\n",
       "      <td>A1D87F6ZCVE5NK</td>\n",
       "      <td>dll pa</td>\n",
       "      <td>0</td>\n",
       "      <td>0</td>\n",
       "      <td>0</td>\n",
       "      <td>1346976000</td>\n",
       "      <td>Not as Advertised</td>\n",
       "      <td>Product arrived labeled as Jumbo Salted Peanut...</td>\n",
       "    </tr>\n",
       "    <tr>\n",
       "      <th>2</th>\n",
       "      <td>3</td>\n",
       "      <td>B000LQOCH0</td>\n",
       "      <td>ABXLMWJIXXAIN</td>\n",
       "      <td>Natalia Corres \"Natalia Corres\"</td>\n",
       "      <td>1</td>\n",
       "      <td>1</td>\n",
       "      <td>1</td>\n",
       "      <td>1219017600</td>\n",
       "      <td>\"Delight\" says it all</td>\n",
       "      <td>This is a confection that has been around a fe...</td>\n",
       "    </tr>\n",
       "  </tbody>\n",
       "</table>\n",
       "</div>"
      ],
      "text/plain": [
       "   Id  ...                                               Text\n",
       "0   1  ...  I have bought several of the Vitality canned d...\n",
       "1   2  ...  Product arrived labeled as Jumbo Salted Peanut...\n",
       "2   3  ...  This is a confection that has been around a fe...\n",
       "\n",
       "[3 rows x 10 columns]"
      ]
     },
     "execution_count": 5,
     "metadata": {
      "tags": []
     },
     "output_type": "execute_result"
    }
   ],
   "source": [
    "# using SQLite Table to read data.\n",
    "con = sqlite3.connect('database.sqlite') \n",
    "\n",
    "# filtering only positive and negative reviews i.e. \n",
    "# not taking into consideration those reviews with Score=3\n",
    "# SELECT * FROM Reviews WHERE Score != 3 LIMIT 500000, will give top 500000 data points\n",
    "# you can change the number to any other number based on your computing power\n",
    "\n",
    "# filtered_data = pd.read_sql_query(\"\"\" SELECT * FROM Reviews WHERE Score != 3 LIMIT 500000\"\"\", con) \n",
    "# for tsne assignment you can take 5k data points\n",
    "\n",
    "filtered_data = pd.read_sql_query(\"\"\" SELECT * FROM Reviews WHERE Score != 3 LIMIT 50000\"\"\", con) \n",
    "\n",
    "# Give reviews with Score>3 a positive rating(1), and reviews with a score<3 a negative rating(0).\n",
    "def partition(x):\n",
    "    if x < 3:\n",
    "        return 0\n",
    "    return 1\n",
    "\n",
    "#changing reviews with score less than 3 to be positive and vice-versa\n",
    "actualScore = filtered_data['Score']\n",
    "positiveNegative = actualScore.map(partition) \n",
    "filtered_data['Score'] = positiveNegative\n",
    "print(\"Number of data points in our data\", filtered_data.shape)\n",
    "filtered_data.head(3)"
   ]
  },
  {
   "cell_type": "code",
   "execution_count": 6,
   "metadata": {
    "executionInfo": {
     "elapsed": 6647,
     "status": "ok",
     "timestamp": 1625028276265,
     "user": {
      "displayName": "Guruprasad G",
      "photoUrl": "https://lh3.googleusercontent.com/a-/AOh14GgIKqebW6jPdcnAVVp4f7tNOulz7_njQ-p26wPA=s64",
      "userId": "08997559224978829775"
     },
     "user_tz": -330
    },
    "id": "f34vIYWxLs2h"
   },
   "outputs": [],
   "source": [
    "display = pd.read_sql_query(\"\"\"\n",
    "SELECT UserId, ProductId, ProfileName, Time, Score, Text, COUNT(*)\n",
    "FROM Reviews\n",
    "GROUP BY UserId\n",
    "HAVING COUNT(*)>1\n",
    "\"\"\", con)"
   ]
  },
  {
   "cell_type": "code",
   "execution_count": 7,
   "metadata": {
    "colab": {
     "base_uri": "https://localhost:8080/",
     "height": 0
    },
    "executionInfo": {
     "elapsed": 50,
     "status": "ok",
     "timestamp": 1625028276279,
     "user": {
      "displayName": "Guruprasad G",
      "photoUrl": "https://lh3.googleusercontent.com/a-/AOh14GgIKqebW6jPdcnAVVp4f7tNOulz7_njQ-p26wPA=s64",
      "userId": "08997559224978829775"
     },
     "user_tz": -330
    },
    "id": "sooYlfVTLs2l",
    "outputId": "468e69bd-b924-4714-91ab-4c96346f60b1",
    "scrolled": true
   },
   "outputs": [
    {
     "name": "stdout",
     "output_type": "stream",
     "text": [
      "(80668, 7)\n"
     ]
    },
    {
     "data": {
      "text/html": [
       "<div>\n",
       "<style scoped>\n",
       "    .dataframe tbody tr th:only-of-type {\n",
       "        vertical-align: middle;\n",
       "    }\n",
       "\n",
       "    .dataframe tbody tr th {\n",
       "        vertical-align: top;\n",
       "    }\n",
       "\n",
       "    .dataframe thead th {\n",
       "        text-align: right;\n",
       "    }\n",
       "</style>\n",
       "<table border=\"1\" class=\"dataframe\">\n",
       "  <thead>\n",
       "    <tr style=\"text-align: right;\">\n",
       "      <th></th>\n",
       "      <th>UserId</th>\n",
       "      <th>ProductId</th>\n",
       "      <th>ProfileName</th>\n",
       "      <th>Time</th>\n",
       "      <th>Score</th>\n",
       "      <th>Text</th>\n",
       "      <th>COUNT(*)</th>\n",
       "    </tr>\n",
       "  </thead>\n",
       "  <tbody>\n",
       "    <tr>\n",
       "      <th>0</th>\n",
       "      <td>#oc-R115TNMSPFT9I7</td>\n",
       "      <td>B007Y59HVM</td>\n",
       "      <td>Breyton</td>\n",
       "      <td>1331510400</td>\n",
       "      <td>2</td>\n",
       "      <td>Overall its just OK when considering the price...</td>\n",
       "      <td>2</td>\n",
       "    </tr>\n",
       "    <tr>\n",
       "      <th>1</th>\n",
       "      <td>#oc-R11D9D7SHXIJB9</td>\n",
       "      <td>B005HG9ET0</td>\n",
       "      <td>Louis E. Emory \"hoppy\"</td>\n",
       "      <td>1342396800</td>\n",
       "      <td>5</td>\n",
       "      <td>My wife has recurring extreme muscle spasms, u...</td>\n",
       "      <td>3</td>\n",
       "    </tr>\n",
       "    <tr>\n",
       "      <th>2</th>\n",
       "      <td>#oc-R11DNU2NBKQ23Z</td>\n",
       "      <td>B007Y59HVM</td>\n",
       "      <td>Kim Cieszykowski</td>\n",
       "      <td>1348531200</td>\n",
       "      <td>1</td>\n",
       "      <td>This coffee is horrible and unfortunately not ...</td>\n",
       "      <td>2</td>\n",
       "    </tr>\n",
       "    <tr>\n",
       "      <th>3</th>\n",
       "      <td>#oc-R11O5J5ZVQE25C</td>\n",
       "      <td>B005HG9ET0</td>\n",
       "      <td>Penguin Chick</td>\n",
       "      <td>1346889600</td>\n",
       "      <td>5</td>\n",
       "      <td>This will be the bottle that you grab from the...</td>\n",
       "      <td>3</td>\n",
       "    </tr>\n",
       "    <tr>\n",
       "      <th>4</th>\n",
       "      <td>#oc-R12KPBODL2B5ZD</td>\n",
       "      <td>B007OSBE1U</td>\n",
       "      <td>Christopher P. Presta</td>\n",
       "      <td>1348617600</td>\n",
       "      <td>1</td>\n",
       "      <td>I didnt like this coffee. Instead of telling y...</td>\n",
       "      <td>2</td>\n",
       "    </tr>\n",
       "  </tbody>\n",
       "</table>\n",
       "</div>"
      ],
      "text/plain": [
       "               UserId  ... COUNT(*)\n",
       "0  #oc-R115TNMSPFT9I7  ...        2\n",
       "1  #oc-R11D9D7SHXIJB9  ...        3\n",
       "2  #oc-R11DNU2NBKQ23Z  ...        2\n",
       "3  #oc-R11O5J5ZVQE25C  ...        3\n",
       "4  #oc-R12KPBODL2B5ZD  ...        2\n",
       "\n",
       "[5 rows x 7 columns]"
      ]
     },
     "execution_count": 7,
     "metadata": {
      "tags": []
     },
     "output_type": "execute_result"
    }
   ],
   "source": [
    "print(display.shape)\n",
    "display.head()"
   ]
  },
  {
   "cell_type": "code",
   "execution_count": 8,
   "metadata": {
    "colab": {
     "base_uri": "https://localhost:8080/",
     "height": 0
    },
    "executionInfo": {
     "elapsed": 42,
     "status": "ok",
     "timestamp": 1625028276279,
     "user": {
      "displayName": "Guruprasad G",
      "photoUrl": "https://lh3.googleusercontent.com/a-/AOh14GgIKqebW6jPdcnAVVp4f7tNOulz7_njQ-p26wPA=s64",
      "userId": "08997559224978829775"
     },
     "user_tz": -330
    },
    "id": "OaLh-iUnLs2q",
    "outputId": "36c50c97-0fda-4a88-a9db-e9130b4b6d90"
   },
   "outputs": [
    {
     "data": {
      "text/html": [
       "<div>\n",
       "<style scoped>\n",
       "    .dataframe tbody tr th:only-of-type {\n",
       "        vertical-align: middle;\n",
       "    }\n",
       "\n",
       "    .dataframe tbody tr th {\n",
       "        vertical-align: top;\n",
       "    }\n",
       "\n",
       "    .dataframe thead th {\n",
       "        text-align: right;\n",
       "    }\n",
       "</style>\n",
       "<table border=\"1\" class=\"dataframe\">\n",
       "  <thead>\n",
       "    <tr style=\"text-align: right;\">\n",
       "      <th></th>\n",
       "      <th>UserId</th>\n",
       "      <th>ProductId</th>\n",
       "      <th>ProfileName</th>\n",
       "      <th>Time</th>\n",
       "      <th>Score</th>\n",
       "      <th>Text</th>\n",
       "      <th>COUNT(*)</th>\n",
       "    </tr>\n",
       "  </thead>\n",
       "  <tbody>\n",
       "    <tr>\n",
       "      <th>80638</th>\n",
       "      <td>AZY10LLTJ71NX</td>\n",
       "      <td>B006P7E5ZI</td>\n",
       "      <td>undertheshrine \"undertheshrine\"</td>\n",
       "      <td>1334707200</td>\n",
       "      <td>5</td>\n",
       "      <td>I was recommended to try green tea extract to ...</td>\n",
       "      <td>5</td>\n",
       "    </tr>\n",
       "  </tbody>\n",
       "</table>\n",
       "</div>"
      ],
      "text/plain": [
       "              UserId  ... COUNT(*)\n",
       "80638  AZY10LLTJ71NX  ...        5\n",
       "\n",
       "[1 rows x 7 columns]"
      ]
     },
     "execution_count": 8,
     "metadata": {
      "tags": []
     },
     "output_type": "execute_result"
    }
   ],
   "source": [
    "display[display['UserId']=='AZY10LLTJ71NX']"
   ]
  },
  {
   "cell_type": "code",
   "execution_count": 9,
   "metadata": {
    "colab": {
     "base_uri": "https://localhost:8080/"
    },
    "executionInfo": {
     "elapsed": 39,
     "status": "ok",
     "timestamp": 1625028276280,
     "user": {
      "displayName": "Guruprasad G",
      "photoUrl": "https://lh3.googleusercontent.com/a-/AOh14GgIKqebW6jPdcnAVVp4f7tNOulz7_njQ-p26wPA=s64",
      "userId": "08997559224978829775"
     },
     "user_tz": -330
    },
    "id": "fLyKXfnVLs2v",
    "outputId": "b7fdf2c9-ea78-4473-e90b-7e6d18a94556"
   },
   "outputs": [
    {
     "data": {
      "text/plain": [
       "393063"
      ]
     },
     "execution_count": 9,
     "metadata": {
      "tags": []
     },
     "output_type": "execute_result"
    }
   ],
   "source": [
    "display['COUNT(*)'].sum()"
   ]
  },
  {
   "cell_type": "markdown",
   "metadata": {
    "id": "BjI7UhwyLs2z"
   },
   "source": [
    "#  [2] Exploratory Data Analysis"
   ]
  },
  {
   "cell_type": "markdown",
   "metadata": {
    "id": "QlozktDwLs2z"
   },
   "source": [
    "## [2.1] Data Cleaning: Deduplication\n",
    "\n",
    "It is observed (as shown in the table below) that the reviews data had many duplicate entries. Hence it was necessary to remove duplicates in order to get unbiased results for the analysis of the data.  Following is an example:"
   ]
  },
  {
   "cell_type": "code",
   "execution_count": 10,
   "metadata": {
    "colab": {
     "base_uri": "https://localhost:8080/",
     "height": 0
    },
    "executionInfo": {
     "elapsed": 35,
     "status": "ok",
     "timestamp": 1625028276280,
     "user": {
      "displayName": "Guruprasad G",
      "photoUrl": "https://lh3.googleusercontent.com/a-/AOh14GgIKqebW6jPdcnAVVp4f7tNOulz7_njQ-p26wPA=s64",
      "userId": "08997559224978829775"
     },
     "user_tz": -330
    },
    "id": "dK8j675XLs20",
    "outputId": "34497009-dafa-4e8e-cf55-45b0cbc1c764",
    "scrolled": false
   },
   "outputs": [
    {
     "data": {
      "text/html": [
       "<div>\n",
       "<style scoped>\n",
       "    .dataframe tbody tr th:only-of-type {\n",
       "        vertical-align: middle;\n",
       "    }\n",
       "\n",
       "    .dataframe tbody tr th {\n",
       "        vertical-align: top;\n",
       "    }\n",
       "\n",
       "    .dataframe thead th {\n",
       "        text-align: right;\n",
       "    }\n",
       "</style>\n",
       "<table border=\"1\" class=\"dataframe\">\n",
       "  <thead>\n",
       "    <tr style=\"text-align: right;\">\n",
       "      <th></th>\n",
       "      <th>Id</th>\n",
       "      <th>ProductId</th>\n",
       "      <th>UserId</th>\n",
       "      <th>ProfileName</th>\n",
       "      <th>HelpfulnessNumerator</th>\n",
       "      <th>HelpfulnessDenominator</th>\n",
       "      <th>Score</th>\n",
       "      <th>Time</th>\n",
       "      <th>Summary</th>\n",
       "      <th>Text</th>\n",
       "    </tr>\n",
       "  </thead>\n",
       "  <tbody>\n",
       "    <tr>\n",
       "      <th>0</th>\n",
       "      <td>78445</td>\n",
       "      <td>B000HDL1RQ</td>\n",
       "      <td>AR5J8UI46CURR</td>\n",
       "      <td>Geetha Krishnan</td>\n",
       "      <td>2</td>\n",
       "      <td>2</td>\n",
       "      <td>5</td>\n",
       "      <td>1199577600</td>\n",
       "      <td>LOACKER QUADRATINI VANILLA WAFERS</td>\n",
       "      <td>DELICIOUS WAFERS. I FIND THAT EUROPEAN WAFERS ...</td>\n",
       "    </tr>\n",
       "    <tr>\n",
       "      <th>1</th>\n",
       "      <td>138317</td>\n",
       "      <td>B000HDOPYC</td>\n",
       "      <td>AR5J8UI46CURR</td>\n",
       "      <td>Geetha Krishnan</td>\n",
       "      <td>2</td>\n",
       "      <td>2</td>\n",
       "      <td>5</td>\n",
       "      <td>1199577600</td>\n",
       "      <td>LOACKER QUADRATINI VANILLA WAFERS</td>\n",
       "      <td>DELICIOUS WAFERS. I FIND THAT EUROPEAN WAFERS ...</td>\n",
       "    </tr>\n",
       "    <tr>\n",
       "      <th>2</th>\n",
       "      <td>138277</td>\n",
       "      <td>B000HDOPYM</td>\n",
       "      <td>AR5J8UI46CURR</td>\n",
       "      <td>Geetha Krishnan</td>\n",
       "      <td>2</td>\n",
       "      <td>2</td>\n",
       "      <td>5</td>\n",
       "      <td>1199577600</td>\n",
       "      <td>LOACKER QUADRATINI VANILLA WAFERS</td>\n",
       "      <td>DELICIOUS WAFERS. I FIND THAT EUROPEAN WAFERS ...</td>\n",
       "    </tr>\n",
       "    <tr>\n",
       "      <th>3</th>\n",
       "      <td>73791</td>\n",
       "      <td>B000HDOPZG</td>\n",
       "      <td>AR5J8UI46CURR</td>\n",
       "      <td>Geetha Krishnan</td>\n",
       "      <td>2</td>\n",
       "      <td>2</td>\n",
       "      <td>5</td>\n",
       "      <td>1199577600</td>\n",
       "      <td>LOACKER QUADRATINI VANILLA WAFERS</td>\n",
       "      <td>DELICIOUS WAFERS. I FIND THAT EUROPEAN WAFERS ...</td>\n",
       "    </tr>\n",
       "    <tr>\n",
       "      <th>4</th>\n",
       "      <td>155049</td>\n",
       "      <td>B000PAQ75C</td>\n",
       "      <td>AR5J8UI46CURR</td>\n",
       "      <td>Geetha Krishnan</td>\n",
       "      <td>2</td>\n",
       "      <td>2</td>\n",
       "      <td>5</td>\n",
       "      <td>1199577600</td>\n",
       "      <td>LOACKER QUADRATINI VANILLA WAFERS</td>\n",
       "      <td>DELICIOUS WAFERS. I FIND THAT EUROPEAN WAFERS ...</td>\n",
       "    </tr>\n",
       "  </tbody>\n",
       "</table>\n",
       "</div>"
      ],
      "text/plain": [
       "       Id  ...                                               Text\n",
       "0   78445  ...  DELICIOUS WAFERS. I FIND THAT EUROPEAN WAFERS ...\n",
       "1  138317  ...  DELICIOUS WAFERS. I FIND THAT EUROPEAN WAFERS ...\n",
       "2  138277  ...  DELICIOUS WAFERS. I FIND THAT EUROPEAN WAFERS ...\n",
       "3   73791  ...  DELICIOUS WAFERS. I FIND THAT EUROPEAN WAFERS ...\n",
       "4  155049  ...  DELICIOUS WAFERS. I FIND THAT EUROPEAN WAFERS ...\n",
       "\n",
       "[5 rows x 10 columns]"
      ]
     },
     "execution_count": 10,
     "metadata": {
      "tags": []
     },
     "output_type": "execute_result"
    }
   ],
   "source": [
    "display= pd.read_sql_query(\"\"\"\n",
    "SELECT *\n",
    "FROM Reviews\n",
    "WHERE Score != 3 AND UserId=\"AR5J8UI46CURR\"\n",
    "ORDER BY ProductID\n",
    "\"\"\", con)\n",
    "display.head()"
   ]
  },
  {
   "cell_type": "markdown",
   "metadata": {
    "id": "W6YkD2fDLs24"
   },
   "source": [
    "As it can be seen above that same user has multiple reviews with same values for HelpfulnessNumerator, HelpfulnessDenominator, Score, Time, Summary and Text and on doing analysis it was found that <br>\n",
    "<br> \n",
    "ProductId=B000HDOPZG was Loacker Quadratini Vanilla Wafer Cookies, 8.82-Ounce Packages (Pack of 8)<br>\n",
    "<br> \n",
    "ProductId=B000HDL1RQ was Loacker Quadratini Lemon Wafer Cookies, 8.82-Ounce Packages (Pack of 8) and so on<br>\n",
    "\n",
    "It was inferred after analysis that reviews with same parameters other than ProductId belonged to the same product just having different flavour or quantity. Hence in order to reduce redundancy it was decided to eliminate the rows having same parameters.<br>\n",
    "\n",
    "The method used for the same was that we first sort the data according to ProductId and then just keep the first similar product review and delelte the others. for eg. in the above just the review for ProductId=B000HDL1RQ remains. This method ensures that there is only one representative for each product and deduplication without sorting would lead to possibility of different representatives still existing for the same product."
   ]
  },
  {
   "cell_type": "code",
   "execution_count": 11,
   "metadata": {
    "executionInfo": {
     "elapsed": 975,
     "status": "ok",
     "timestamp": 1625028277222,
     "user": {
      "displayName": "Guruprasad G",
      "photoUrl": "https://lh3.googleusercontent.com/a-/AOh14GgIKqebW6jPdcnAVVp4f7tNOulz7_njQ-p26wPA=s64",
      "userId": "08997559224978829775"
     },
     "user_tz": -330
    },
    "id": "8rpzjZrcLs25"
   },
   "outputs": [],
   "source": [
    "#Sorting data according to ProductId in ascending order\n",
    "sorted_data=filtered_data.sort_values('ProductId', axis=0, ascending=True, inplace=False, kind='quicksort', na_position='last')"
   ]
  },
  {
   "cell_type": "code",
   "execution_count": 12,
   "metadata": {
    "colab": {
     "base_uri": "https://localhost:8080/"
    },
    "executionInfo": {
     "elapsed": 52,
     "status": "ok",
     "timestamp": 1625028277223,
     "user": {
      "displayName": "Guruprasad G",
      "photoUrl": "https://lh3.googleusercontent.com/a-/AOh14GgIKqebW6jPdcnAVVp4f7tNOulz7_njQ-p26wPA=s64",
      "userId": "08997559224978829775"
     },
     "user_tz": -330
    },
    "id": "GG2mo2kJLs27",
    "outputId": "267cabed-1a3d-4078-8a8f-3e667b31cca4"
   },
   "outputs": [
    {
     "data": {
      "text/plain": [
       "(46072, 10)"
      ]
     },
     "execution_count": 12,
     "metadata": {
      "tags": []
     },
     "output_type": "execute_result"
    }
   ],
   "source": [
    "#Deduplication of entries\n",
    "final=sorted_data.drop_duplicates(subset={\"UserId\",\"ProfileName\",\"Time\",\"Text\"}, keep='first', inplace=False)\n",
    "final.shape"
   ]
  },
  {
   "cell_type": "code",
   "execution_count": 13,
   "metadata": {
    "colab": {
     "base_uri": "https://localhost:8080/"
    },
    "executionInfo": {
     "elapsed": 49,
     "status": "ok",
     "timestamp": 1625028277224,
     "user": {
      "displayName": "Guruprasad G",
      "photoUrl": "https://lh3.googleusercontent.com/a-/AOh14GgIKqebW6jPdcnAVVp4f7tNOulz7_njQ-p26wPA=s64",
      "userId": "08997559224978829775"
     },
     "user_tz": -330
    },
    "id": "uoQVhiaSLs2_",
    "outputId": "4d3599ae-3aef-4c80-dc98-02f16309d0f7"
   },
   "outputs": [
    {
     "data": {
      "text/plain": [
       "92.144"
      ]
     },
     "execution_count": 13,
     "metadata": {
      "tags": []
     },
     "output_type": "execute_result"
    }
   ],
   "source": [
    "#Checking to see how much % of data still remains\n",
    "(final['Id'].size*1.0)/(filtered_data['Id'].size*1.0)*100"
   ]
  },
  {
   "cell_type": "markdown",
   "metadata": {
    "id": "awi7B0KOLs3B"
   },
   "source": [
    "<b>Observation:-</b> It was also seen that in two rows given below the value of HelpfulnessNumerator is greater than HelpfulnessDenominator which is not practically possible hence these two rows too are removed from calcualtions"
   ]
  },
  {
   "cell_type": "code",
   "execution_count": 14,
   "metadata": {
    "colab": {
     "base_uri": "https://localhost:8080/",
     "height": 0
    },
    "executionInfo": {
     "elapsed": 48,
     "status": "ok",
     "timestamp": 1625028277226,
     "user": {
      "displayName": "Guruprasad G",
      "photoUrl": "https://lh3.googleusercontent.com/a-/AOh14GgIKqebW6jPdcnAVVp4f7tNOulz7_njQ-p26wPA=s64",
      "userId": "08997559224978829775"
     },
     "user_tz": -330
    },
    "id": "8VYQqYWZLs3C",
    "outputId": "dcf40255-4520-4ab3-a8fa-1f2ae5889e45"
   },
   "outputs": [
    {
     "data": {
      "text/html": [
       "<div>\n",
       "<style scoped>\n",
       "    .dataframe tbody tr th:only-of-type {\n",
       "        vertical-align: middle;\n",
       "    }\n",
       "\n",
       "    .dataframe tbody tr th {\n",
       "        vertical-align: top;\n",
       "    }\n",
       "\n",
       "    .dataframe thead th {\n",
       "        text-align: right;\n",
       "    }\n",
       "</style>\n",
       "<table border=\"1\" class=\"dataframe\">\n",
       "  <thead>\n",
       "    <tr style=\"text-align: right;\">\n",
       "      <th></th>\n",
       "      <th>Id</th>\n",
       "      <th>ProductId</th>\n",
       "      <th>UserId</th>\n",
       "      <th>ProfileName</th>\n",
       "      <th>HelpfulnessNumerator</th>\n",
       "      <th>HelpfulnessDenominator</th>\n",
       "      <th>Score</th>\n",
       "      <th>Time</th>\n",
       "      <th>Summary</th>\n",
       "      <th>Text</th>\n",
       "    </tr>\n",
       "  </thead>\n",
       "  <tbody>\n",
       "    <tr>\n",
       "      <th>0</th>\n",
       "      <td>64422</td>\n",
       "      <td>B000MIDROQ</td>\n",
       "      <td>A161DK06JJMCYF</td>\n",
       "      <td>J. E. Stephens \"Jeanne\"</td>\n",
       "      <td>3</td>\n",
       "      <td>1</td>\n",
       "      <td>5</td>\n",
       "      <td>1224892800</td>\n",
       "      <td>Bought This for My Son at College</td>\n",
       "      <td>My son loves spaghetti so I didn't hesitate or...</td>\n",
       "    </tr>\n",
       "    <tr>\n",
       "      <th>1</th>\n",
       "      <td>44737</td>\n",
       "      <td>B001EQ55RW</td>\n",
       "      <td>A2V0I904FH7ABY</td>\n",
       "      <td>Ram</td>\n",
       "      <td>3</td>\n",
       "      <td>2</td>\n",
       "      <td>4</td>\n",
       "      <td>1212883200</td>\n",
       "      <td>Pure cocoa taste with crunchy almonds inside</td>\n",
       "      <td>It was almost a 'love at first bite' - the per...</td>\n",
       "    </tr>\n",
       "  </tbody>\n",
       "</table>\n",
       "</div>"
      ],
      "text/plain": [
       "      Id  ...                                               Text\n",
       "0  64422  ...  My son loves spaghetti so I didn't hesitate or...\n",
       "1  44737  ...  It was almost a 'love at first bite' - the per...\n",
       "\n",
       "[2 rows x 10 columns]"
      ]
     },
     "execution_count": 14,
     "metadata": {
      "tags": []
     },
     "output_type": "execute_result"
    }
   ],
   "source": [
    "display= pd.read_sql_query(\"\"\"\n",
    "SELECT *\n",
    "FROM Reviews\n",
    "WHERE Score != 3 AND Id=44737 OR Id=64422\n",
    "ORDER BY ProductID\n",
    "\"\"\", con)\n",
    "\n",
    "display.head()"
   ]
  },
  {
   "cell_type": "code",
   "execution_count": 15,
   "metadata": {
    "executionInfo": {
     "elapsed": 45,
     "status": "ok",
     "timestamp": 1625028277227,
     "user": {
      "displayName": "Guruprasad G",
      "photoUrl": "https://lh3.googleusercontent.com/a-/AOh14GgIKqebW6jPdcnAVVp4f7tNOulz7_njQ-p26wPA=s64",
      "userId": "08997559224978829775"
     },
     "user_tz": -330
    },
    "id": "SJAmuBWvLs3F"
   },
   "outputs": [],
   "source": [
    "final=final[final.HelpfulnessNumerator<=final.HelpfulnessDenominator]"
   ]
  },
  {
   "cell_type": "code",
   "execution_count": 16,
   "metadata": {
    "colab": {
     "base_uri": "https://localhost:8080/"
    },
    "executionInfo": {
     "elapsed": 43,
     "status": "ok",
     "timestamp": 1625028277227,
     "user": {
      "displayName": "Guruprasad G",
      "photoUrl": "https://lh3.googleusercontent.com/a-/AOh14GgIKqebW6jPdcnAVVp4f7tNOulz7_njQ-p26wPA=s64",
      "userId": "08997559224978829775"
     },
     "user_tz": -330
    },
    "id": "VRMt0ylrLs3H",
    "outputId": "54e96d0d-7034-4487-c92d-df3140f6aa0c"
   },
   "outputs": [
    {
     "name": "stdout",
     "output_type": "stream",
     "text": [
      "(46071, 10)\n"
     ]
    },
    {
     "data": {
      "text/plain": [
       "1    38479\n",
       "0     7592\n",
       "Name: Score, dtype: int64"
      ]
     },
     "execution_count": 16,
     "metadata": {
      "tags": []
     },
     "output_type": "execute_result"
    }
   ],
   "source": [
    "#Before starting the next phase of preprocessing lets see the number of entries left\n",
    "print(final.shape)\n",
    "\n",
    "#How many positive and negative reviews are present in our dataset?\n",
    "final['Score'].value_counts()"
   ]
  },
  {
   "cell_type": "markdown",
   "metadata": {
    "id": "WNlQvs_7Ls3K"
   },
   "source": [
    "#  [3] Preprocessing"
   ]
  },
  {
   "cell_type": "markdown",
   "metadata": {
    "id": "1zx3OJ8aLs3L"
   },
   "source": [
    "## [3.1].  Preprocessing Review Text\n",
    "\n",
    "Now that we have finished deduplication our data requires some preprocessing before we go on further with analysis and making the prediction model.\n",
    "\n",
    "Hence in the Preprocessing phase we do the following in the order below:-\n",
    "\n",
    "1. Begin by removing the html tags\n",
    "2. Remove any punctuations or limited set of special characters like , or . or # etc.\n",
    "3. Check if the word is made up of english letters and is not alpha-numeric\n",
    "4. Check to see if the length of the word is greater than 2 (as it was researched that there is no adjective in 2-letters)\n",
    "5. Convert the word to lowercase\n",
    "6. Remove Stopwords\n",
    "7. Finally Snowball Stemming the word (it was obsereved to be better than Porter Stemming)<br>\n",
    "\n",
    "After which we collect the words used to describe positive and negative reviews"
   ]
  },
  {
   "cell_type": "code",
   "execution_count": 17,
   "metadata": {
    "colab": {
     "base_uri": "https://localhost:8080/"
    },
    "executionInfo": {
     "elapsed": 40,
     "status": "ok",
     "timestamp": 1625028277228,
     "user": {
      "displayName": "Guruprasad G",
      "photoUrl": "https://lh3.googleusercontent.com/a-/AOh14GgIKqebW6jPdcnAVVp4f7tNOulz7_njQ-p26wPA=s64",
      "userId": "08997559224978829775"
     },
     "user_tz": -330
    },
    "id": "bBXkkhcmLs3L",
    "outputId": "07a526e5-6b28-4baf-ffd2-7f1f67f223c3"
   },
   "outputs": [
    {
     "name": "stdout",
     "output_type": "stream",
     "text": [
      "My dogs loves this chicken but its a product from China, so we wont be buying it anymore.  Its very hard to find any chicken products made in the USA but they are out there, but this one isnt.  Its too bad too because its a good product but I wont take any chances till they know what is going on with the china imports.\n",
      "==================================================\n",
      "this is yummy, easy and unusual. it makes a quick, delicous pie, crisp or cobbler. home made is better, but a heck of a lot more work. this is great to have on hand for last minute dessert needs where you really want to impress wih your creativity in cooking! recommended.\n",
      "==================================================\n",
      "Great flavor, low in calories, high in nutrients, high in protein! Usually protein powders are high priced and high in calories, this one is a great bargain and tastes great, I highly recommend for the lady gym rats, probably not \"macho\" enough for guys since it is soy based...\n",
      "==================================================\n",
      "For those of you wanting a high-quality, yet affordable green tea, you should definitely give this one a try. Let me first start by saying that everyone is looking for something different for their ideal tea, and I will attempt to briefly highlight what makes this tea attractive to a wide range of tea drinkers (whether you are a beginner or long-time tea enthusiast).  I have gone through over 12 boxes of this tea myself, and highly recommend it for the following reasons:<br /><br />-Quality:  First, this tea offers a smooth quality without any harsh or bitter after tones, which often turns people off from many green teas.  I've found my ideal brewing time to be between 3-5 minutes, giving you a light but flavorful cup of tea.  However, if you get distracted or forget about your tea and leave it brewing for 20+ minutes like I sometimes do, the quality of this tea is such that you still get a smooth but deeper flavor without the bad after taste.  The leaves themselves are whole leaves (not powdered stems, branches, etc commonly found in other brands), and the high-quality nylon bags also include chunks of tropical fruit and other discernible ingredients.  This isn't your standard cheap paper bag with a mix of unknown ingredients that have been ground down to a fine powder, leaving you to wonder what it is you are actually drinking.<br /><br />-Taste:  This tea offers notes of real pineapple and other hints of tropical fruits, yet isn't sweet or artificially flavored.  You have the foundation of a high-quality young hyson green tea for those true \"tea flavor\" lovers, yet the subtle hints of fruit make this a truly unique tea that I believe most will enjoy.  If you want it sweet, you can add sugar, splenda, etc but this really is not necessary as this tea offers an inherent warmth of flavor through it's ingredients.<br /><br />-Price:  This tea offers an excellent product at an exceptional price (especially when purchased at the prices Amazon offers).  Compared to other brands which I believe to be of similar quality (Mighty Leaf, Rishi, Two Leaves, etc.), Revolution offers a superior product at an outstanding price.  I have been purchasing this through Amazon for less per box than I would be paying at my local grocery store for Lipton, etc.<br /><br />Overall, this is a wonderful tea that is comparable, and even better than, other teas that are priced much higher.  It offers a well-balanced cup of green tea that I believe many will enjoy.  In terms of taste, quality, and price, I would argue you won't find a better combination that that offered by Revolution's Tropical Green Tea.\n",
      "==================================================\n"
     ]
    }
   ],
   "source": [
    "# printing some random reviews\n",
    "sent_0 = final['Text'].values[0]\n",
    "print(sent_0)\n",
    "print(\"=\"*50)\n",
    "\n",
    "sent_1000 = final['Text'].values[1000]\n",
    "print(sent_1000)\n",
    "print(\"=\"*50)\n",
    "\n",
    "sent_1500 = final['Text'].values[1500]\n",
    "print(sent_1500)\n",
    "print(\"=\"*50)\n",
    "\n",
    "sent_4900 = final['Text'].values[4900]\n",
    "print(sent_4900)\n",
    "print(\"=\"*50)"
   ]
  },
  {
   "cell_type": "code",
   "execution_count": 18,
   "metadata": {
    "colab": {
     "base_uri": "https://localhost:8080/"
    },
    "executionInfo": {
     "elapsed": 36,
     "status": "ok",
     "timestamp": 1625028277229,
     "user": {
      "displayName": "Guruprasad G",
      "photoUrl": "https://lh3.googleusercontent.com/a-/AOh14GgIKqebW6jPdcnAVVp4f7tNOulz7_njQ-p26wPA=s64",
      "userId": "08997559224978829775"
     },
     "user_tz": -330
    },
    "id": "EP3seCPkLs3O",
    "outputId": "2839de7d-66ef-40d4-c469-a15c2d9fb08e"
   },
   "outputs": [
    {
     "name": "stdout",
     "output_type": "stream",
     "text": [
      "My dogs loves this chicken but its a product from China, so we wont be buying it anymore.  Its very hard to find any chicken products made in the USA but they are out there, but this one isnt.  Its too bad too because its a good product but I wont take any chances till they know what is going on with the china imports.\n"
     ]
    }
   ],
   "source": [
    "# remove urls from text python: https://stackoverflow.com/a/40823105/4084039\n",
    "sent_0 = re.sub(r\"http\\S+\", \"\", sent_0)\n",
    "sent_1000 = re.sub(r\"http\\S+\", \"\", sent_1000)\n",
    "sent_150 = re.sub(r\"http\\S+\", \"\", sent_1500)\n",
    "sent_4900 = re.sub(r\"http\\S+\", \"\", sent_4900)\n",
    "\n",
    "print(sent_0)"
   ]
  },
  {
   "cell_type": "code",
   "execution_count": 19,
   "metadata": {
    "colab": {
     "base_uri": "https://localhost:8080/"
    },
    "executionInfo": {
     "elapsed": 34,
     "status": "ok",
     "timestamp": 1625028277230,
     "user": {
      "displayName": "Guruprasad G",
      "photoUrl": "https://lh3.googleusercontent.com/a-/AOh14GgIKqebW6jPdcnAVVp4f7tNOulz7_njQ-p26wPA=s64",
      "userId": "08997559224978829775"
     },
     "user_tz": -330
    },
    "id": "kd57esPGLs3R",
    "outputId": "3f915093-0bb5-4294-da15-79f5d5141f6d"
   },
   "outputs": [
    {
     "name": "stdout",
     "output_type": "stream",
     "text": [
      "My dogs loves this chicken but its a product from China, so we wont be buying it anymore.  Its very hard to find any chicken products made in the USA but they are out there, but this one isnt.  Its too bad too because its a good product but I wont take any chances till they know what is going on with the china imports.\n",
      "==================================================\n",
      "this is yummy, easy and unusual. it makes a quick, delicous pie, crisp or cobbler. home made is better, but a heck of a lot more work. this is great to have on hand for last minute dessert needs where you really want to impress wih your creativity in cooking! recommended.\n",
      "==================================================\n",
      "Great flavor, low in calories, high in nutrients, high in protein! Usually protein powders are high priced and high in calories, this one is a great bargain and tastes great, I highly recommend for the lady gym rats, probably not \"macho\" enough for guys since it is soy based...\n",
      "==================================================\n",
      "For those of you wanting a high-quality, yet affordable green tea, you should definitely give this one a try. Let me first start by saying that everyone is looking for something different for their ideal tea, and I will attempt to briefly highlight what makes this tea attractive to a wide range of tea drinkers (whether you are a beginner or long-time tea enthusiast).  I have gone through over 12 boxes of this tea myself, and highly recommend it for the following reasons:-Quality:  First, this tea offers a smooth quality without any harsh or bitter after tones, which often turns people off from many green teas.  I've found my ideal brewing time to be between 3-5 minutes, giving you a light but flavorful cup of tea.  However, if you get distracted or forget about your tea and leave it brewing for 20+ minutes like I sometimes do, the quality of this tea is such that you still get a smooth but deeper flavor without the bad after taste.  The leaves themselves are whole leaves (not powdered stems, branches, etc commonly found in other brands), and the high-quality nylon bags also include chunks of tropical fruit and other discernible ingredients.  This isn't your standard cheap paper bag with a mix of unknown ingredients that have been ground down to a fine powder, leaving you to wonder what it is you are actually drinking.-Taste:  This tea offers notes of real pineapple and other hints of tropical fruits, yet isn't sweet or artificially flavored.  You have the foundation of a high-quality young hyson green tea for those true \"tea flavor\" lovers, yet the subtle hints of fruit make this a truly unique tea that I believe most will enjoy.  If you want it sweet, you can add sugar, splenda, etc but this really is not necessary as this tea offers an inherent warmth of flavor through it's ingredients.-Price:  This tea offers an excellent product at an exceptional price (especially when purchased at the prices Amazon offers).  Compared to other brands which I believe to be of similar quality (Mighty Leaf, Rishi, Two Leaves, etc.), Revolution offers a superior product at an outstanding price.  I have been purchasing this through Amazon for less per box than I would be paying at my local grocery store for Lipton, etc.Overall, this is a wonderful tea that is comparable, and even better than, other teas that are priced much higher.  It offers a well-balanced cup of green tea that I believe many will enjoy.  In terms of taste, quality, and price, I would argue you won't find a better combination that that offered by Revolution's Tropical Green Tea.\n"
     ]
    }
   ],
   "source": [
    "# https://stackoverflow.com/questions/16206380/python-beautifulsoup-how-to-remove-all-tags-from-an-element\n",
    "from bs4 import BeautifulSoup\n",
    "\n",
    "soup = BeautifulSoup(sent_0, 'lxml')\n",
    "text = soup.get_text()\n",
    "print(text)\n",
    "print(\"=\"*50)\n",
    "\n",
    "soup = BeautifulSoup(sent_1000, 'lxml')\n",
    "text = soup.get_text()\n",
    "print(text)\n",
    "print(\"=\"*50)\n",
    "\n",
    "soup = BeautifulSoup(sent_1500, 'lxml')\n",
    "text = soup.get_text()\n",
    "print(text)\n",
    "print(\"=\"*50)\n",
    "\n",
    "soup = BeautifulSoup(sent_4900, 'lxml')\n",
    "text = soup.get_text()\n",
    "print(text)"
   ]
  },
  {
   "cell_type": "code",
   "execution_count": 20,
   "metadata": {
    "executionInfo": {
     "elapsed": 30,
     "status": "ok",
     "timestamp": 1625028277230,
     "user": {
      "displayName": "Guruprasad G",
      "photoUrl": "https://lh3.googleusercontent.com/a-/AOh14GgIKqebW6jPdcnAVVp4f7tNOulz7_njQ-p26wPA=s64",
      "userId": "08997559224978829775"
     },
     "user_tz": -330
    },
    "id": "nq-jyIK_Ls3U"
   },
   "outputs": [],
   "source": [
    "# https://stackoverflow.com/a/47091490/4084039\n",
    "import re\n",
    "\n",
    "def decontracted(phrase):\n",
    "    # specific\n",
    "    phrase = re.sub(r\"won't\", \"will not\", phrase)\n",
    "    phrase = re.sub(r\"can\\'t\", \"can not\", phrase)\n",
    "\n",
    "    # general\n",
    "    phrase = re.sub(r\"n\\'t\", \" not\", phrase)\n",
    "    phrase = re.sub(r\"\\'re\", \" are\", phrase)\n",
    "    phrase = re.sub(r\"\\'s\", \" is\", phrase)\n",
    "    phrase = re.sub(r\"\\'d\", \" would\", phrase)\n",
    "    phrase = re.sub(r\"\\'ll\", \" will\", phrase)\n",
    "    phrase = re.sub(r\"\\'t\", \" not\", phrase)\n",
    "    phrase = re.sub(r\"\\'ve\", \" have\", phrase)\n",
    "    phrase = re.sub(r\"\\'m\", \" am\", phrase)\n",
    "    return phrase"
   ]
  },
  {
   "cell_type": "code",
   "execution_count": 21,
   "metadata": {
    "colab": {
     "base_uri": "https://localhost:8080/"
    },
    "executionInfo": {
     "elapsed": 29,
     "status": "ok",
     "timestamp": 1625028277231,
     "user": {
      "displayName": "Guruprasad G",
      "photoUrl": "https://lh3.googleusercontent.com/a-/AOh14GgIKqebW6jPdcnAVVp4f7tNOulz7_njQ-p26wPA=s64",
      "userId": "08997559224978829775"
     },
     "user_tz": -330
    },
    "id": "1ksQ9iEhLs3W",
    "outputId": "f455573c-dfa2-467f-b8a7-16010212c488"
   },
   "outputs": [
    {
     "name": "stdout",
     "output_type": "stream",
     "text": [
      "Great flavor, low in calories, high in nutrients, high in protein! Usually protein powders are high priced and high in calories, this one is a great bargain and tastes great, I highly recommend for the lady gym rats, probably not \"macho\" enough for guys since it is soy based...\n",
      "==================================================\n"
     ]
    }
   ],
   "source": [
    "sent_1500 = decontracted(sent_1500)\n",
    "print(sent_1500)\n",
    "print(\"=\"*50)"
   ]
  },
  {
   "cell_type": "code",
   "execution_count": 22,
   "metadata": {
    "colab": {
     "base_uri": "https://localhost:8080/"
    },
    "executionInfo": {
     "elapsed": 27,
     "status": "ok",
     "timestamp": 1625028277232,
     "user": {
      "displayName": "Guruprasad G",
      "photoUrl": "https://lh3.googleusercontent.com/a-/AOh14GgIKqebW6jPdcnAVVp4f7tNOulz7_njQ-p26wPA=s64",
      "userId": "08997559224978829775"
     },
     "user_tz": -330
    },
    "id": "10xZf0J9Ls3Z",
    "outputId": "0c7258b6-2ac8-457c-da5f-b3f96e9cce80"
   },
   "outputs": [
    {
     "name": "stdout",
     "output_type": "stream",
     "text": [
      "My dogs loves this chicken but its a product from China, so we wont be buying it anymore.  Its very hard to find any chicken products made in the USA but they are out there, but this one isnt.  Its too bad too because its a good product but I wont take any chances till they know what is going on with the china imports.\n"
     ]
    }
   ],
   "source": [
    "#remove words with numbers python: https://stackoverflow.com/a/18082370/4084039\n",
    "sent_0 = re.sub(\"\\S*\\d\\S*\", \"\", sent_0).strip()\n",
    "print(sent_0)"
   ]
  },
  {
   "cell_type": "code",
   "execution_count": 23,
   "metadata": {
    "colab": {
     "base_uri": "https://localhost:8080/"
    },
    "executionInfo": {
     "elapsed": 27,
     "status": "ok",
     "timestamp": 1625028277233,
     "user": {
      "displayName": "Guruprasad G",
      "photoUrl": "https://lh3.googleusercontent.com/a-/AOh14GgIKqebW6jPdcnAVVp4f7tNOulz7_njQ-p26wPA=s64",
      "userId": "08997559224978829775"
     },
     "user_tz": -330
    },
    "id": "YeJklswfLs3b",
    "outputId": "655eaccd-42c6-48cc-800f-30c899ad9458"
   },
   "outputs": [
    {
     "name": "stdout",
     "output_type": "stream",
     "text": [
      "Great flavor low in calories high in nutrients high in protein Usually protein powders are high priced and high in calories this one is a great bargain and tastes great I highly recommend for the lady gym rats probably not macho enough for guys since it is soy based \n"
     ]
    }
   ],
   "source": [
    "#remove spacial character: https://stackoverflow.com/a/5843547/4084039\n",
    "sent_1500 = re.sub('[^A-Za-z0-9]+', ' ', sent_1500)\n",
    "print(sent_1500)"
   ]
  },
  {
   "cell_type": "code",
   "execution_count": 24,
   "metadata": {
    "executionInfo": {
     "elapsed": 25,
     "status": "ok",
     "timestamp": 1625028277234,
     "user": {
      "displayName": "Guruprasad G",
      "photoUrl": "https://lh3.googleusercontent.com/a-/AOh14GgIKqebW6jPdcnAVVp4f7tNOulz7_njQ-p26wPA=s64",
      "userId": "08997559224978829775"
     },
     "user_tz": -330
    },
    "id": "wlrQNxciLs3e"
   },
   "outputs": [],
   "source": [
    "# https://gist.github.com/sebleier/554280\n",
    "# we are removing the words from the stop words list: 'no', 'nor', 'not'\n",
    "# <br /><br /> ==> after the above steps, we are getting \"br br\"\n",
    "# we are including them into stop words list\n",
    "# instead of <br /> if we have <br/> these tags would have revmoved in the 1st step\n",
    "\n",
    "stopwords= set(['br', 'the', 'i', 'me', 'my', 'myself', 'we', 'our', 'ours', 'ourselves', 'you', \"you're\", \"you've\",\\\n",
    "            \"you'll\", \"you'd\", 'your', 'yours', 'yourself', 'yourselves', 'he', 'him', 'his', 'himself', \\\n",
    "            'she', \"she's\", 'her', 'hers', 'herself', 'it', \"it's\", 'its', 'itself', 'they', 'them', 'their',\\\n",
    "            'theirs', 'themselves', 'what', 'which', 'who', 'whom', 'this', 'that', \"that'll\", 'these', 'those', \\\n",
    "            'am', 'is', 'are', 'was', 'were', 'be', 'been', 'being', 'have', 'has', 'had', 'having', 'do', 'does', \\\n",
    "            'did', 'doing', 'a', 'an', 'the', 'and', 'but', 'if', 'or', 'because', 'as', 'until', 'while', 'of', \\\n",
    "            'at', 'by', 'for', 'with', 'about', 'against', 'between', 'into', 'through', 'during', 'before', 'after',\\\n",
    "            'above', 'below', 'to', 'from', 'up', 'down', 'in', 'out', 'on', 'off', 'over', 'under', 'again', 'further',\\\n",
    "            'then', 'once', 'here', 'there', 'when', 'where', 'why', 'how', 'all', 'any', 'both', 'each', 'few', 'more',\\\n",
    "            'most', 'other', 'some', 'such', 'only', 'own', 'same', 'so', 'than', 'too', 'very', \\\n",
    "            's', 't', 'can', 'will', 'just', 'don', \"don't\", 'should', \"should've\", 'now', 'd', 'll', 'm', 'o', 're', \\\n",
    "            've', 'y', 'ain', 'aren', \"aren't\", 'couldn', \"couldn't\", 'didn', \"didn't\", 'doesn', \"doesn't\", 'hadn',\\\n",
    "            \"hadn't\", 'hasn', \"hasn't\", 'haven', \"haven't\", 'isn', \"isn't\", 'ma', 'mightn', \"mightn't\", 'mustn',\\\n",
    "            \"mustn't\", 'needn', \"needn't\", 'shan', \"shan't\", 'shouldn', \"shouldn't\", 'wasn', \"wasn't\", 'weren', \"weren't\", \\\n",
    "            'won', \"won't\", 'wouldn', \"wouldn't\"])"
   ]
  },
  {
   "cell_type": "code",
   "execution_count": 25,
   "metadata": {
    "colab": {
     "base_uri": "https://localhost:8080/"
    },
    "executionInfo": {
     "elapsed": 20132,
     "status": "ok",
     "timestamp": 1625028297342,
     "user": {
      "displayName": "Guruprasad G",
      "photoUrl": "https://lh3.googleusercontent.com/a-/AOh14GgIKqebW6jPdcnAVVp4f7tNOulz7_njQ-p26wPA=s64",
      "userId": "08997559224978829775"
     },
     "user_tz": -330
    },
    "id": "s2mq5lM2Ls3g",
    "outputId": "0ae6a23a-4a48-4e92-a1a8-2700d8827044"
   },
   "outputs": [
    {
     "name": "stderr",
     "output_type": "stream",
     "text": [
      "100%|██████████| 46071/46071 [00:20<00:00, 2288.26it/s]\n"
     ]
    }
   ],
   "source": [
    "# Combining all the above stundents \n",
    "from tqdm import tqdm\n",
    "preprocessed_reviews = []\n",
    "# tqdm is for printing the status bar\n",
    "for sentance in tqdm(final['Text'].values):\n",
    "    sentance = re.sub(r\"http\\S+\", \"\", sentance)\n",
    "    sentance = BeautifulSoup(sentance, 'lxml').get_text()\n",
    "    sentance = decontracted(sentance)\n",
    "    sentance = re.sub(\"\\S*\\d\\S*\", \"\", sentance).strip()\n",
    "    sentance = re.sub('[^A-Za-z]+', ' ', sentance)\n",
    "    # https://gist.github.com/sebleier/554280\n",
    "    sentance = ' '.join(e.lower() for e in sentance.split() if e.lower() not in stopwords)\n",
    "    preprocessed_reviews.append(sentance.strip())"
   ]
  },
  {
   "cell_type": "code",
   "execution_count": 26,
   "metadata": {
    "colab": {
     "base_uri": "https://localhost:8080/",
     "height": 0
    },
    "executionInfo": {
     "elapsed": 44,
     "status": "ok",
     "timestamp": 1625028297343,
     "user": {
      "displayName": "Guruprasad G",
      "photoUrl": "https://lh3.googleusercontent.com/a-/AOh14GgIKqebW6jPdcnAVVp4f7tNOulz7_njQ-p26wPA=s64",
      "userId": "08997559224978829775"
     },
     "user_tz": -330
    },
    "id": "sYIfYlniLs3i",
    "outputId": "60c31721-8be4-418b-d275-4397eb9dd4bc"
   },
   "outputs": [
    {
     "data": {
      "application/vnd.google.colaboratory.intrinsic+json": {
       "type": "string"
      },
      "text/plain": [
       "'great flavor low calories high nutrients high protein usually protein powders high priced high calories one great bargain tastes great highly recommend lady gym rats probably not macho enough guys since soy based'"
      ]
     },
     "execution_count": 26,
     "metadata": {
      "tags": []
     },
     "output_type": "execute_result"
    }
   ],
   "source": [
    "preprocessed_reviews[1500]"
   ]
  },
  {
   "cell_type": "markdown",
   "metadata": {
    "id": "QDle9PaqLs3l"
   },
   "source": [
    "<h2><font color='red'>[3.2] Preprocessing Review Summary</font></h2>"
   ]
  },
  {
   "cell_type": "code",
   "execution_count": 27,
   "metadata": {
    "colab": {
     "base_uri": "https://localhost:8080/"
    },
    "executionInfo": {
     "elapsed": 18818,
     "status": "ok",
     "timestamp": 1625028316123,
     "user": {
      "displayName": "Guruprasad G",
      "photoUrl": "https://lh3.googleusercontent.com/a-/AOh14GgIKqebW6jPdcnAVVp4f7tNOulz7_njQ-p26wPA=s64",
      "userId": "08997559224978829775"
     },
     "user_tz": -330
    },
    "id": "Bf-B6cP7Ls3n",
    "outputId": "1c4c2936-fa47-4644-beae-7b042987e37a"
   },
   "outputs": [
    {
     "name": "stderr",
     "output_type": "stream",
     "text": [
      "100%|██████████| 46071/46071 [00:18<00:00, 2431.63it/s]\n"
     ]
    }
   ],
   "source": [
    "## Similartly you can do preprocessing for review summary also.\n",
    "from tqdm import tqdm\n",
    "preprocessed_summary = []\n",
    "# tqdm is for printing the status bar\n",
    "for sentance in tqdm(final['Summary'].values):\n",
    "    sentance = re.sub(r\"http\\S+\", \"\", sentance)\n",
    "    sentance = BeautifulSoup(sentance, 'lxml').get_text()\n",
    "    sentance = decontracted(sentance)\n",
    "    sentance = re.sub(\"\\S*\\d\\S*\", \"\", sentance).strip()\n",
    "    sentance = re.sub('[^A-Za-z]+', ' ', sentance)\n",
    "    # https://gist.github.com/sebleier/554280\n",
    "    sentance = ' '.join(e.lower() for e in sentance.split() if e.lower() not in stopwords)\n",
    "    preprocessed_summary.append(sentance.strip())"
   ]
  },
  {
   "cell_type": "code",
   "execution_count": 28,
   "metadata": {
    "colab": {
     "base_uri": "https://localhost:8080/",
     "height": 0
    },
    "executionInfo": {
     "elapsed": 23,
     "status": "ok",
     "timestamp": 1625028316124,
     "user": {
      "displayName": "Guruprasad G",
      "photoUrl": "https://lh3.googleusercontent.com/a-/AOh14GgIKqebW6jPdcnAVVp4f7tNOulz7_njQ-p26wPA=s64",
      "userId": "08997559224978829775"
     },
     "user_tz": -330
    },
    "id": "INFIIwdWg9xT",
    "outputId": "c6587927-70a0-45eb-cc72-54a4923b1378"
   },
   "outputs": [
    {
     "data": {
      "application/vnd.google.colaboratory.intrinsic+json": {
       "type": "string"
      },
      "text/plain": [
       "'gym rat bargain'"
      ]
     },
     "execution_count": 28,
     "metadata": {
      "tags": []
     },
     "output_type": "execute_result"
    }
   ],
   "source": [
    "preprocessed_summary[1500]"
   ]
  },
  {
   "cell_type": "code",
   "execution_count": 29,
   "metadata": {
    "executionInfo": {
     "elapsed": 20,
     "status": "ok",
     "timestamp": 1625028316124,
     "user": {
      "displayName": "Guruprasad G",
      "photoUrl": "https://lh3.googleusercontent.com/a-/AOh14GgIKqebW6jPdcnAVVp4f7tNOulz7_njQ-p26wPA=s64",
      "userId": "08997559224978829775"
     },
     "user_tz": -330
    },
    "id": "VoL8z_LQg9xU"
   },
   "outputs": [],
   "source": [
    "preprocessed_combinedText=[]\n",
    "for i in range(0, len(preprocessed_reviews)):\n",
    "    preprocessed_combinedText.append(preprocessed_reviews[i]+ ' ' + preprocessed_summary[i])"
   ]
  },
  {
   "cell_type": "code",
   "execution_count": 30,
   "metadata": {
    "colab": {
     "base_uri": "https://localhost:8080/"
    },
    "executionInfo": {
     "elapsed": 20,
     "status": "ok",
     "timestamp": 1625028316125,
     "user": {
      "displayName": "Guruprasad G",
      "photoUrl": "https://lh3.googleusercontent.com/a-/AOh14GgIKqebW6jPdcnAVVp4f7tNOulz7_njQ-p26wPA=s64",
      "userId": "08997559224978829775"
     },
     "user_tz": -330
    },
    "id": "0W3aLTfyg9xU",
    "outputId": "d09d5a5b-45ac-40cb-e99c-8f91a6e3c38e"
   },
   "outputs": [
    {
     "name": "stdout",
     "output_type": "stream",
     "text": [
      "great flavor low calories high nutrients high protein usually protein powders high priced high calories one great bargain tastes great highly recommend lady gym rats probably not macho enough guys since soy based\n",
      "-----------------------------------\n",
      "gym rat bargain\n",
      "-----------------------------------\n",
      "great flavor low calories high nutrients high protein usually protein powders high priced high calories one great bargain tastes great highly recommend lady gym rats probably not macho enough guys since soy based gym rat bargain\n"
     ]
    }
   ],
   "source": [
    "print(preprocessed_reviews[1500])\n",
    "print('-----------------------------------')\n",
    "print(preprocessed_summary[1500])\n",
    "print('-----------------------------------')\n",
    "print(preprocessed_combinedText[1500])"
   ]
  },
  {
   "cell_type": "code",
   "execution_count": 31,
   "metadata": {
    "colab": {
     "base_uri": "https://localhost:8080/"
    },
    "executionInfo": {
     "elapsed": 19,
     "status": "ok",
     "timestamp": 1625028316125,
     "user": {
      "displayName": "Guruprasad G",
      "photoUrl": "https://lh3.googleusercontent.com/a-/AOh14GgIKqebW6jPdcnAVVp4f7tNOulz7_njQ-p26wPA=s64",
      "userId": "08997559224978829775"
     },
     "user_tz": -330
    },
    "id": "yVdtJRxlg9xU",
    "outputId": "22474ce9-1880-437e-ab10-6558b5afc546"
   },
   "outputs": [
    {
     "name": "stdout",
     "output_type": "stream",
     "text": [
      "46071\n",
      "46071\n",
      "46071\n"
     ]
    }
   ],
   "source": [
    "print(len(preprocessed_reviews))\n",
    "print(len(preprocessed_summary))\n",
    "print(len(preprocessed_combinedText))"
   ]
  },
  {
   "cell_type": "code",
   "execution_count": 32,
   "metadata": {
    "colab": {
     "base_uri": "https://localhost:8080/"
    },
    "executionInfo": {
     "elapsed": 18,
     "status": "ok",
     "timestamp": 1625028316125,
     "user": {
      "displayName": "Guruprasad G",
      "photoUrl": "https://lh3.googleusercontent.com/a-/AOh14GgIKqebW6jPdcnAVVp4f7tNOulz7_njQ-p26wPA=s64",
      "userId": "08997559224978829775"
     },
     "user_tz": -330
    },
    "id": "x9ObXXNHg9xU",
    "outputId": "b50f3f90-8427-48c1-c0f2-71e80194b969"
   },
   "outputs": [
    {
     "data": {
      "text/plain": [
       "Index(['Id', 'ProductId', 'UserId', 'ProfileName', 'HelpfulnessNumerator',\n",
       "       'HelpfulnessDenominator', 'Score', 'Time', 'Summary', 'Text',\n",
       "       'CleanedText'],\n",
       "      dtype='object')"
      ]
     },
     "execution_count": 32,
     "metadata": {
      "tags": []
     },
     "output_type": "execute_result"
    }
   ],
   "source": [
    "final['CleanedText']=preprocessed_combinedText\n",
    "final.columns"
   ]
  },
  {
   "cell_type": "code",
   "execution_count": 33,
   "metadata": {
    "colab": {
     "base_uri": "https://localhost:8080/"
    },
    "executionInfo": {
     "elapsed": 18,
     "status": "ok",
     "timestamp": 1625028316126,
     "user": {
      "displayName": "Guruprasad G",
      "photoUrl": "https://lh3.googleusercontent.com/a-/AOh14GgIKqebW6jPdcnAVVp4f7tNOulz7_njQ-p26wPA=s64",
      "userId": "08997559224978829775"
     },
     "user_tz": -330
    },
    "id": "1v9zuIWlg9xU",
    "outputId": "83de0f4c-0e98-48dd-c0be-19f1e7223021"
   },
   "outputs": [
    {
     "data": {
      "text/plain": [
       "(46071,)"
      ]
     },
     "execution_count": 33,
     "metadata": {
      "tags": []
     },
     "output_type": "execute_result"
    }
   ],
   "source": [
    "final['Text'].shape"
   ]
  },
  {
   "cell_type": "code",
   "execution_count": 34,
   "metadata": {
    "colab": {
     "base_uri": "https://localhost:8080/"
    },
    "executionInfo": {
     "elapsed": 829,
     "status": "ok",
     "timestamp": 1625028316938,
     "user": {
      "displayName": "Guruprasad G",
      "photoUrl": "https://lh3.googleusercontent.com/a-/AOh14GgIKqebW6jPdcnAVVp4f7tNOulz7_njQ-p26wPA=s64",
      "userId": "08997559224978829775"
     },
     "user_tz": -330
    },
    "id": "q39fb277g9xV",
    "outputId": "2c8232bb-9fcd-462d-aef8-2cbfb46d3548"
   },
   "outputs": [
    {
     "name": "stdout",
     "output_type": "stream",
     "text": [
      "(46071, 11)\n",
      "1146    2000-06-23\n",
      "1145    2000-06-29\n",
      "28086   2003-10-25\n",
      "28087   2003-10-25\n",
      "38740   2003-10-31\n",
      "           ...    \n",
      "2873    2007-02-14\n",
      "6560    2007-02-14\n",
      "30910   2007-02-15\n",
      "47172   2007-02-15\n",
      "40986   2007-02-15\n",
      "Name: Time, Length: 1000, dtype: datetime64[ns]\n"
     ]
    }
   ],
   "source": [
    "#Sorting based on Time\n",
    "final['Time'] = pd.to_datetime(final['Time'], origin='unix', unit='s')\n",
    "final = final.sort_values('Time')\n",
    "print(final.shape)\n",
    "print(final['Time'].head(1000))"
   ]
  },
  {
   "cell_type": "code",
   "execution_count": 35,
   "metadata": {
    "executionInfo": {
     "elapsed": 24,
     "status": "ok",
     "timestamp": 1625028316939,
     "user": {
      "displayName": "Guruprasad G",
      "photoUrl": "https://lh3.googleusercontent.com/a-/AOh14GgIKqebW6jPdcnAVVp4f7tNOulz7_njQ-p26wPA=s64",
      "userId": "08997559224978829775"
     },
     "user_tz": -330
    },
    "id": "dPi6AUZ2g9xV"
   },
   "outputs": [],
   "source": [
    "#Splitting Data into Train CV and Test\n",
    "%matplotlib inline\n",
    "import warnings\n",
    "from sklearn.model_selection import train_test_split\n",
    "\n",
    "X_train, X_test, Y_train, Y_test = train_test_split(final['CleanedText'], final['Score'], test_size=.30, random_state=64)"
   ]
  },
  {
   "cell_type": "code",
   "execution_count": 36,
   "metadata": {
    "colab": {
     "base_uri": "https://localhost:8080/"
    },
    "executionInfo": {
     "elapsed": 25,
     "status": "ok",
     "timestamp": 1625028316941,
     "user": {
      "displayName": "Guruprasad G",
      "photoUrl": "https://lh3.googleusercontent.com/a-/AOh14GgIKqebW6jPdcnAVVp4f7tNOulz7_njQ-p26wPA=s64",
      "userId": "08997559224978829775"
     },
     "user_tz": -330
    },
    "id": "y82UISmvg9xV",
    "outputId": "fcbd5b29-9b63-4021-cd66-11eddb523ff5"
   },
   "outputs": [
    {
     "name": "stdout",
     "output_type": "stream",
     "text": [
      "[(32249,), (13822,), (32249,), (13822,)]\n"
     ]
    }
   ],
   "source": [
    "print([i.shape for i in [X_train,X_test, Y_train, Y_test]])"
   ]
  },
  {
   "cell_type": "code",
   "execution_count": 37,
   "metadata": {
    "colab": {
     "base_uri": "https://localhost:8080/",
     "height": 0
    },
    "executionInfo": {
     "elapsed": 22,
     "status": "ok",
     "timestamp": 1625028316942,
     "user": {
      "displayName": "Guruprasad G",
      "photoUrl": "https://lh3.googleusercontent.com/a-/AOh14GgIKqebW6jPdcnAVVp4f7tNOulz7_njQ-p26wPA=s64",
      "userId": "08997559224978829775"
     },
     "user_tz": -330
    },
    "id": "6dwBbS2Lg9xV",
    "outputId": "cc236f4f-0299-4ac0-f26e-c4ba711a6c3a"
   },
   "outputs": [
    {
     "data": {
      "image/png": "[encoded data removed]",
      "text/plain": [
       "<Figure size 432x288 with 1 Axes>"
      ]
     },
     "metadata": {
      "needs_background": "light",
      "tags": []
     },
     "output_type": "display_data"
    },
    {
     "name": "stdout",
     "output_type": "stream",
     "text": [
      "1    38479\n",
      "0     7592\n",
      "Name: Score, dtype: int64\n"
     ]
    }
   ],
   "source": [
    "sns.barplot(x=['Positive','Negative'], y=final['Score'].value_counts().values)\n",
    "plt.show()\n",
    "\n",
    "print(final['Score'].value_counts())"
   ]
  },
  {
   "cell_type": "code",
   "execution_count": 38,
   "metadata": {
    "colab": {
     "base_uri": "https://localhost:8080/"
    },
    "executionInfo": {
     "elapsed": 19,
     "status": "ok",
     "timestamp": 1625028316943,
     "user": {
      "displayName": "Guruprasad G",
      "photoUrl": "https://lh3.googleusercontent.com/a-/AOh14GgIKqebW6jPdcnAVVp4f7tNOulz7_njQ-p26wPA=s64",
      "userId": "08997559224978829775"
     },
     "user_tz": -330
    },
    "id": "v-b_rhr_g9xV",
    "outputId": "8a9e9ab4-8256-44d3-c1d6-bd5065ee8e38"
   },
   "outputs": [
    {
     "name": "stdout",
     "output_type": "stream",
     "text": [
      "Percentage of Positive reviews- 83.52 %\n",
      "Percentage of Negative reviews- 16.48 %\n"
     ]
    }
   ],
   "source": [
    "final_value_counts=final['Score'].value_counts()\n",
    "positiveClassPercentage=((final_value_counts.sum() - final_value_counts[0])/final_value_counts.sum())*100\n",
    "negativeClassPercentage=100-positiveClassPercentage\n",
    "print('Percentage of Positive reviews- {} %'.format(round(positiveClassPercentage, 2)))\n",
    "print('Percentage of Negative reviews- {} %'.format(round(negativeClassPercentage, 2)))"
   ]
  },
  {
   "cell_type": "markdown",
   "metadata": {
    "id": "-FO3JMH0Ls3p"
   },
   "source": [
    "# [4] Featurization"
   ]
  },
  {
   "cell_type": "markdown",
   "metadata": {
    "id": "cINi_W06Ls3q"
   },
   "source": [
    "## [4.1] BAG OF WORDS"
   ]
  },
  {
   "cell_type": "code",
   "execution_count": 39,
   "metadata": {
    "colab": {
     "base_uri": "https://localhost:8080/"
    },
    "executionInfo": {
     "elapsed": 21894,
     "status": "ok",
     "timestamp": 1625028338819,
     "user": {
      "displayName": "Guruprasad G",
      "photoUrl": "https://lh3.googleusercontent.com/a-/AOh14GgIKqebW6jPdcnAVVp4f7tNOulz7_njQ-p26wPA=s64",
      "userId": "08997559224978829775"
     },
     "user_tz": -330
    },
    "id": "-BKOoPR8Ls3r",
    "outputId": "cb5601b0-c65b-42e1-bb3f-eab24abfe76f"
   },
   "outputs": [
    {
     "name": "stdout",
     "output_type": "stream",
     "text": [
      "[<class 'scipy.sparse.csr.csr_matrix'>, <class 'scipy.sparse.csr.csr_matrix'>]\n",
      "Shape of bow_train is:  (32249, 5000)\n",
      "Shape of bow_test is:  (13822, 5000)\n"
     ]
    }
   ],
   "source": [
    "#Compute BoW\n",
    "countVector=CountVectorizer(ngram_range=(1,4), min_df=5, max_features=5000)\n",
    "bow_train=countVector.fit_transform(X_train)\n",
    "\n",
    "bow_test=countVector.transform(X_test)\n",
    "\n",
    "print(list(map(type, [bow_train,bow_test])))\n",
    "print('Shape of bow_train is: ', bow_train.shape)\n",
    "print('Shape of bow_test is: ', bow_test.shape)\n"
   ]
  },
  {
   "cell_type": "markdown",
   "metadata": {
    "id": "qD7Bjt85Ls3w"
   },
   "source": [
    "## [4.3] TF-IDF"
   ]
  },
  {
   "cell_type": "code",
   "execution_count": 40,
   "metadata": {
    "colab": {
     "base_uri": "https://localhost:8080/"
    },
    "executionInfo": {
     "elapsed": 6461,
     "status": "ok",
     "timestamp": 1625028345246,
     "user": {
      "displayName": "Guruprasad G",
      "photoUrl": "https://lh3.googleusercontent.com/a-/AOh14GgIKqebW6jPdcnAVVp4f7tNOulz7_njQ-p26wPA=s64",
      "userId": "08997559224978829775"
     },
     "user_tz": -330
    },
    "id": "ua1RYjCwLs3w",
    "outputId": "1799a593-b625-41ca-c908-d7ad084fb351"
   },
   "outputs": [
    {
     "name": "stdout",
     "output_type": "stream",
     "text": [
      "[<class 'scipy.sparse.csr.csr_matrix'>, <class 'scipy.sparse.csr.csr_matrix'>]\n",
      "Shape of tfidf_train is:  (32249, 500)\n",
      "Shape of tfidf_test is:  (13822, 500)\n"
     ]
    }
   ],
   "source": [
    "#Compute tfidf\n",
    "tfidfVector = TfidfVectorizer(ngram_range=(1,2), min_df=5,  max_features=500)\n",
    "tfidf_train=tfidfVector.fit_transform(X_train)\n",
    "tfidf_test=tfidfVector.transform(X_test)\n",
    "\n",
    "print(list(map(type, [tfidf_train,tfidf_test])))\n",
    "print('Shape of tfidf_train is: ', tfidf_train.shape)\n",
    "print('Shape of tfidf_test is: ', tfidf_test.shape)"
   ]
  },
  {
   "cell_type": "markdown",
   "metadata": {
    "id": "QGccvBKTLs3y"
   },
   "source": [
    "## [4.4] Word2Vec"
   ]
  },
  {
   "cell_type": "markdown",
   "metadata": {
    "id": "-NM5E-glLs34"
   },
   "source": [
    "## [4.4.1] Converting text into vectors using Avg W2V, TFIDF-W2V"
   ]
  },
  {
   "cell_type": "markdown",
   "metadata": {
    "id": "TZ7mLBDgLs35"
   },
   "source": [
    "#### [4.4.1.1] Avg W2v"
   ]
  },
  {
   "cell_type": "code",
   "execution_count": 41,
   "metadata": {
    "colab": {
     "base_uri": "https://localhost:8080/"
    },
    "executionInfo": {
     "elapsed": 93911,
     "status": "ok",
     "timestamp": 1625028439125,
     "user": {
      "displayName": "Guruprasad G",
      "photoUrl": "https://lh3.googleusercontent.com/a-/AOh14GgIKqebW6jPdcnAVVp4f7tNOulz7_njQ-p26wPA=s64",
      "userId": "08997559224978829775"
     },
     "user_tz": -330
    },
    "id": "GDsQbM4NLs35",
    "outputId": "8dec6577-12ab-46b1-8a7a-94cacc67148d"
   },
   "outputs": [
    {
     "name": "stderr",
     "output_type": "stream",
     "text": [
      "100%|██████████| 32249/32249 [00:56<00:00, 573.49it/s]\n",
      "  0%|          | 66/13822 [00:00<00:22, 607.94it/s]"
     ]
    },
    {
     "name": "stdout",
     "output_type": "stream",
     "text": [
      "32249\n",
      "50\n"
     ]
    },
    {
     "name": "stderr",
     "output_type": "stream",
     "text": [
      "100%|██████████| 13822/13822 [00:25<00:00, 540.85it/s]"
     ]
    },
    {
     "name": "stdout",
     "output_type": "stream",
     "text": [
      "13822\n",
      "50\n"
     ]
    },
    {
     "name": "stderr",
     "output_type": "stream",
     "text": [
      "\n"
     ]
    }
   ],
   "source": [
    "# Train your own Word2Vec model using your own text corpus\n",
    "# average Word2Vec for train, validation and test data \n",
    "list_of_sentance_train=[]\n",
    "for sentance in X_train:\n",
    "    list_of_sentance_train.append(sentance.split())\n",
    "w2v_model=Word2Vec(list_of_sentance_train,min_count=5, vector_size=50, workers=4)\n",
    "w2v_words = list(w2v_model.wv.index_to_key)\n",
    "\n",
    "#avgw2v for train data\n",
    "sent_vectors_train = []; \n",
    "for sent in tqdm(list_of_sentance_train):\n",
    "    sent_vec = np.zeros(50) \n",
    "    cnt_words =0;\n",
    "    for word in sent: \n",
    "        if word in w2v_words:\n",
    "            vec = w2v_model.wv[word]\n",
    "            sent_vec += vec\n",
    "            cnt_words += 1\n",
    "    if cnt_words != 0:\n",
    "        sent_vec /= cnt_words\n",
    "    sent_vectors_train.append(sent_vec)\n",
    "print(len(sent_vectors_train))\n",
    "print(len(sent_vectors_train[0]))\n",
    "\n",
    "#avgw2v for test data\n",
    "sent_vectors_test = []\n",
    "list_of_sentance_test=[]\n",
    "for sentance in X_test:\n",
    "    list_of_sentance_test.append(sentance.split())\n",
    "for sent in tqdm(list_of_sentance_test):\n",
    "    sent_vec = np.zeros(50) \n",
    "    cnt_words =0;\n",
    "    for word in sent: \n",
    "        if word in w2v_words:\n",
    "            vec = w2v_model.wv[word]\n",
    "            sent_vec += vec\n",
    "            cnt_words += 1\n",
    "    if cnt_words != 0:\n",
    "        sent_vec /= cnt_words\n",
    "    sent_vectors_test.append(sent_vec)\n",
    "print(len(sent_vectors_test))\n",
    "print(len(sent_vectors_test[0]))\n"
   ]
  },
  {
   "cell_type": "code",
   "execution_count": 42,
   "metadata": {
    "executionInfo": {
     "elapsed": 21,
     "status": "ok",
     "timestamp": 1625028439125,
     "user": {
      "displayName": "Guruprasad G",
      "photoUrl": "https://lh3.googleusercontent.com/a-/AOh14GgIKqebW6jPdcnAVVp4f7tNOulz7_njQ-p26wPA=s64",
      "userId": "08997559224978829775"
     },
     "user_tz": -330
    },
    "id": "P4qamoyVg9xX"
   },
   "outputs": [],
   "source": [
    "avgw2v_train=sent_vectors_train\n",
    "avgw2v_test=sent_vectors_test"
   ]
  },
  {
   "cell_type": "markdown",
   "metadata": {
    "id": "tzS18bQ3Ls37"
   },
   "source": [
    "#### [4.4.1.2] TFIDF weighted W2v"
   ]
  },
  {
   "cell_type": "code",
   "execution_count": 43,
   "metadata": {
    "colab": {
     "base_uri": "https://localhost:8080/"
    },
    "executionInfo": {
     "elapsed": 118997,
     "status": "ok",
     "timestamp": 1625028558882,
     "user": {
      "displayName": "Guruprasad G",
      "photoUrl": "https://lh3.googleusercontent.com/a-/AOh14GgIKqebW6jPdcnAVVp4f7tNOulz7_njQ-p26wPA=s64",
      "userId": "08997559224978829775"
     },
     "user_tz": -330
    },
    "id": "hsclqVMwg9xX",
    "outputId": "17e075dc-b2b2-4ee8-bfc7-059d5603096a"
   },
   "outputs": [
    {
     "name": "stderr",
     "output_type": "stream",
     "text": [
      "100%|██████████| 32249/32249 [01:18<00:00, 412.44it/s]\n",
      "100%|██████████| 13822/13822 [00:35<00:00, 393.44it/s]\n"
     ]
    }
   ],
   "source": [
    "tf_idf_vect = TfidfVectorizer(ngram_range=(1,2),min_df=10,max_features=500)\n",
    "\n",
    "tf_idf_matrix=tf_idf_vect.fit_transform(X_train)\n",
    "tfidf_feat = tf_idf_vect.get_feature_names() \n",
    "dictionary = dict(zip(tf_idf_vect.get_feature_names(), list(tf_idf_vect.idf_)))\n",
    "\n",
    "#TFIDF weighted W2V for train data\n",
    "tfidf_sent_vectors_train = []\n",
    "row=0;\n",
    "for sent in tqdm(list_of_sentance_train): \n",
    "    sent_vec = np.zeros(50)\n",
    "    weight_sum =0;\n",
    "    for word in sent: \n",
    "        if word in w2v_words and word in tfidf_feat:\n",
    "            vec = w2v_model.wv[word]\n",
    "            tf_idf = dictionary[word]*(sent.count(word)/len(sent))\n",
    "            sent_vec += (vec * tf_idf)\n",
    "            weight_sum += tf_idf\n",
    "    if weight_sum != 0:\n",
    "        sent_vec /= weight_sum\n",
    "    tfidf_sent_vectors_train.append(sent_vec)\n",
    "    row += 1\n",
    "\n",
    "#TFIDF weighted W2V for test data\n",
    "list_of_sentance_test=[]\n",
    "tfidf_sent_vectors_test = []\n",
    "for sentance in X_test:\n",
    "    list_of_sentance_test.append(sentance.split())\n",
    "row=0;\n",
    "for sent in tqdm(list_of_sentance_test): \n",
    "    sent_vec = np.zeros(50)\n",
    "    weight_sum =0;\n",
    "    for word in sent: \n",
    "        if word in w2v_words and word in tfidf_feat:\n",
    "            vec = w2v_model.wv[word]\n",
    "            tf_idf = dictionary[word]*(sent.count(word)/len(sent))\n",
    "            sent_vec += (vec * tf_idf)\n",
    "            weight_sum += tf_idf\n",
    "    if weight_sum != 0:\n",
    "        sent_vec /= weight_sum\n",
    "    tfidf_sent_vectors_test.append(sent_vec)\n",
    "    row += 1"
   ]
  },
  {
   "cell_type": "code",
   "execution_count": 44,
   "metadata": {
    "executionInfo": {
     "elapsed": 33,
     "status": "ok",
     "timestamp": 1625028558883,
     "user": {
      "displayName": "Guruprasad G",
      "photoUrl": "https://lh3.googleusercontent.com/a-/AOh14GgIKqebW6jPdcnAVVp4f7tNOulz7_njQ-p26wPA=s64",
      "userId": "08997559224978829775"
     },
     "user_tz": -330
    },
    "id": "hAGdrDTGg9xY"
   },
   "outputs": [],
   "source": [
    "tfidf_w2v_train=tfidf_sent_vectors_train\n",
    "tfidf_w2v_test=tfidf_sent_vectors_test"
   ]
  },
  {
   "cell_type": "markdown",
   "metadata": {
    "id": "pBXdyiIZLs3_"
   },
   "source": [
    "# [5] Assignment 9: Random Forests"
   ]
  },
  {
   "cell_type": "markdown",
   "metadata": {
    "id": "1FvHXStuLs3_"
   },
   "source": [
    "<ol>\n",
    "    <li><strong>Apply Random Forests & GBDT on these feature sets</strong>\n",
    "        <ul>\n",
    "            <li><font color='red'>SET 1:</font>Review text, preprocessed one converted into vectors using (BOW)</li>\n",
    "            <li><font color='red'>SET 2:</font>Review text, preprocessed one converted into vectors using (TFIDF)</li>\n",
    "            <li><font color='red'>SET 3:</font>Review text, preprocessed one converted into vectors using (AVG W2v)</li>\n",
    "            <li><font color='red'>SET 4:</font>Review text, preprocessed one converted into vectors using (TFIDF W2v)</li>\n",
    "        </ul>\n",
    "    </li>\n",
    "    <br>\n",
    "    <li><strong>The hyper paramter tuning (Consider two hyperparameters: n_estimators & max_depth)</strong>\n",
    "        <ul>\n",
    "    <li>Find the best hyper parameter which will give the maximum <a href='https://www.appliedaicourse.com/course/applied-ai-course-online/lessons/receiver-operating-characteristic-curve-roc-curve-and-auc-1/'>AUC</a> value</li>\n",
    "    <li>Find the best hyper paramter using k-fold cross validation or simple cross validation data</li>\n",
    "    <li>Use gridsearch cv or randomsearch cv or you can also write your own for loops to do this task of hyperparameter tuning</li>          \n",
    "        </ul>\n",
    "    </li>\n",
    "    <br>\n",
    "    <li><strong>Feature importance</strong>\n",
    "        <ul>\n",
    "    <li>Get top 20 important features and represent them in a word cloud. Do this for BOW & TFIDF.</li>\n",
    "        </ul>\n",
    "    </li>\n",
    "    <br>\n",
    "    <li><strong>Feature engineering</strong>\n",
    "        <ul>\n",
    "    <li>To increase the performance of your model, you can also experiment with with feature engineering like :</li>\n",
    "            <ul>\n",
    "            <li>Taking length of reviews as another feature.</li>\n",
    "            <li>Considering some features from review summary as well.</li>\n",
    "        </ul>\n",
    "        </ul>\n",
    "    </li>\n",
    "    <br>\n",
    "    <li><strong>Representation of results</strong>\n",
    "        <ul>\n",
    "    <li>You need to plot the performance of model both on train data and cross validation data for each hyper parameter, like shown in the figure\n",
    "    <img src='3d_plot.JPG' width=500px> with X-axis as <strong>n_estimators</strong>, Y-axis as <strong>max_depth</strong>, and Z-axis as <strong>AUC Score</strong> , we have given the notebook which explains how to plot this 3d plot, you can find it in the same drive <i>3d_scatter_plot.ipynb</i></li>\n",
    "            <p style=\"text-align:center;font-size:30px;color:red;\"><strong>(or)</strong></p> <br>\n",
    "    <li>You need to plot the performance of model both on train data and cross validation data for each hyper parameter, like shown in the figure\n",
    "    <img src='heat_map.JPG' width=300px> <a href='https://seaborn.pydata.org/generated/seaborn.heatmap.html'>seaborn heat maps</a> with rows as <strong>n_estimators</strong>, columns as <strong>max_depth</strong>, and values inside the cell representing <strong>AUC Score</strong> </li>\n",
    "    <li>You choose either of the plotting techniques out of 3d plot or heat map</li>\n",
    "    <li>Once after you found the best hyper parameter, you need to train your model with it, and find the AUC on test data and plot the ROC curve on both train and test.\n",
    "    <img src='train_test_auc.JPG' width=300px></li>\n",
    "    <li>Along with plotting ROC curve, you need to print the <a href='https://www.appliedaicourse.com/course/applied-ai-course-online/lessons/confusion-matrix-tpr-fpr-fnr-tnr-1/'>confusion matrix</a> with predicted and original labels of test data points. Please visualize your confusion matrices using <a href='https://seaborn.pydata.org/generated/seaborn.heatmap.html'>seaborn heatmaps.\n",
    "    <img src='confusion_matrix.png' width=300px></li>\n",
    "        </ul>\n",
    "    </li>\n",
    "    <br>\n",
    "    <li><strong>Conclusion</strong>\n",
    "        <ul>\n",
    "    <li>You need to summarize the results at the end of the notebook, summarize it in the table format. To print out a table please refer to this prettytable library<a href='http://zetcode.com/python/prettytable/'>  link</a> \n",
    "        <img src='summary.JPG' width=400px>\n",
    "    </li>\n",
    "        </ul>\n",
    "</ol>"
   ]
  },
  {
   "cell_type": "markdown",
   "metadata": {
    "id": "jKx2wAlDLs4A"
   },
   "source": [
    "<h4><font color='red'>Note: Data Leakage</font></h4>\n",
    "\n",
    "1. There will be an issue of data-leakage if you vectorize the entire data and then split it into train/cv/test.\n",
    "2. To avoid the issue of data-leakag, make sure to split your data first and then vectorize it. \n",
    "3. While vectorizing your data, apply the method fit_transform() on you train data, and apply the method transform() on cv/test data.\n",
    "4. For more details please go through this <a href='https://soundcloud.com/applied-ai-course/leakage-bow-and-tfidf'>link.</a>"
   ]
  },
  {
   "cell_type": "markdown",
   "metadata": {
    "id": "SIn8pwLdLs4L"
   },
   "source": [
    "## [5.2] Applying GBDT using XGBOOST"
   ]
  },
  {
   "cell_type": "code",
   "execution_count": 61,
   "metadata": {
    "executionInfo": {
     "elapsed": 453,
     "status": "ok",
     "timestamp": 1625029980809,
     "user": {
      "displayName": "Guruprasad G",
      "photoUrl": "https://lh3.googleusercontent.com/a-/AOh14GgIKqebW6jPdcnAVVp4f7tNOulz7_njQ-p26wPA=s64",
      "userId": "08997559224978829775"
     },
     "user_tz": -330
    },
    "id": "TLDTwdaeg9xY"
   },
   "outputs": [],
   "source": [
    "from xgboost import XGBClassifier\n",
    "from sklearn.model_selection import GridSearchCV\n",
    "from sklearn.metrics import roc_curve, roc_auc_score, plot_roc_curve\n",
    "\n",
    "def XGBGridsearchcv(trainData, trainLabels, testData, testLabels):\n",
    "    \n",
    "    #specify all the parameters\n",
    "    params = {'objective':['binary:logistic'],\n",
    "              'n_estimators':[i for i in range(300, 601, 100)],\n",
    "              'max_depth':[10,12,14,17], \n",
    "              'booster': ['gbtree'],\n",
    "              'scale_pos_weight':[0.2],\n",
    "              'eval_metric':['auc'],\n",
    "              'tree_method': ['hist'],\n",
    "              #'updater':['grow_gpu_hist'],\n",
    "              'predictor':['cpu_predictor']\n",
    "              }\n",
    "\n",
    "    #define DecisionTree model\n",
    "    xgb = XGBClassifier(random_state=42, n_jobs=-1)\n",
    "    xgb.fit(trainData, trainLabels)\n",
    "    grid = GridSearchCV (estimator=xgb, param_grid=params, cv=5, n_jobs=-1, scoring='roc_auc', verbose=1, \n",
    "                         return_train_score=True)\n",
    "    grid.fit(trainData, trainLabels)\n",
    "\n",
    "\n",
    "    optimum_params=grid.best_params_\n",
    "    print('Best parameters are: {}'.format(optimum_params))\n",
    "\n",
    "\n",
    "    pvt_train = pd.pivot_table(pd.DataFrame(grid.cv_results_),\n",
    "                               values='mean_train_score', index='param_n_estimators', \n",
    "                               columns='param_max_depth')\n",
    "\n",
    "    pvt_cv = pd.pivot_table(pd.DataFrame(grid.cv_results_),\n",
    "                              values='mean_test_score', index='param_n_estimators', \n",
    "                              columns='param_max_depth')\n",
    "\n",
    "    #plot the performance of model both on train data and cross validation data for each hyper parameter\n",
    "    fig, (ax1, ax2) = plt.subplots(1,2, figsize=(14,7))\n",
    "    sns.heatmap(pvt_train, annot=True, ax=ax1)\n",
    "    sns.heatmap(pvt_cv, annot=True, ax=ax2)\n",
    "    ax1.title.set_text('Performance of model on Train data')\n",
    "    ax2.title.set_text('Performance of model on CV data')\n",
    "    plt.show()\n",
    "\n",
    "    fig = plot_roc_curve( xgb, trainData, Y_train, linestyle='--', ax=plt.gca(), label=\"Train ROC\")\n",
    "    fig = plot_roc_curve( xgb, testData, Y_test, ax = fig.ax_, label=\"Validation ROC\")\n",
    "    fig.figure_.suptitle(\"ROC Curve on Train and Validation data\")\n",
    "    plt.show() \n",
    "\n",
    "    return optimum_params"
   ]
  },
  {
   "cell_type": "code",
   "execution_count": 58,
   "metadata": {
    "executionInfo": {
     "elapsed": 518,
     "status": "ok",
     "timestamp": 1625029740013,
     "user": {
      "displayName": "Guruprasad G",
      "photoUrl": "https://lh3.googleusercontent.com/a-/AOh14GgIKqebW6jPdcnAVVp4f7tNOulz7_njQ-p26wPA=s64",
      "userId": "08997559224978829775"
     },
     "user_tz": -330
    },
    "id": "YB8qBPU4g9xZ"
   },
   "outputs": [],
   "source": [
    "from xgboost import XGBClassifier\n",
    "from sklearn.metrics import roc_curve, roc_auc_score\n",
    "from sklearn.metrics import plot_roc_curve\n",
    "\n",
    "\n",
    "def xgbClassifireModel(trainData, trainLabels, testData, testLabels, optimum_params):\n",
    "    \n",
    "    global xgb_clf\n",
    "    xgb_clf = XGBClassifier(    objective='binary:logistic' ,\n",
    "                                n_estimators= optimum_params['n_estimators'],\n",
    "                                max_depth=optimum_params['max_depth']  ,\n",
    "                                eval_metric='auc',\n",
    "                                booster='gbtree',\n",
    "                                random_state=42,\n",
    "                                n_jobs= -1,\n",
    "                                scale_pos_weight=0.2,\n",
    "                                verbosity = 1,\n",
    "                                tree_method= 'hist',\n",
    "                                #updater= 'grow_gpu_hist',\n",
    "                                predictor='cpu_predictor'\n",
    "                                )\n",
    "    \n",
    "    xgb_clf.fit(trainData, trainLabels)\n",
    "    print(\"Best AUC score on optimum parameters is: {}\"\\\n",
    "                                    .format( round(roc_auc_score(testLabels,xgb_clf.predict_proba(testData)[:, 1]), 5)))\n",
    "\n",
    "    #plot ROC AUC Curve\n",
    "    fig = plot_roc_curve( xgb_clf, trainData, Y_train, linestyle='--', ax=plt.gca(), label=\"Train ROC\")\n",
    "    fig = plot_roc_curve( xgb_clf, testData, Y_test, ax = fig.ax_, label=\"Test ROC\")\n",
    "    fig.figure_.suptitle(\"ROC Curve on Train and Test data\")\n",
    "    plt.show()  \n",
    "    \n",
    "    #Plot confusion matrix\n",
    "    confusion_mat=confusion_matrix(testLabels, xgb_clf.predict(testData))\n",
    "    df_confusion_matrix=pd.DataFrame(confusion_mat, index=['Negative', 'Positive'], columns=['Negative', 'Positive'])\n",
    "    sns.heatmap(df_confusion_matrix, annot=True, fmt=\"d\")\n",
    "    plt.title(\"ROC AUC Curve\")\n",
    "    plt.title(\"Confusiion Matrix\")\n",
    "    plt.xlabel(\"Predicted Labels\")\n",
    "    plt.ylabel(\"True Labels\")\n",
    "    plt.legend('right bottom')\n",
    "    plt.show()\n",
    "    "
   ]
  },
  {
   "cell_type": "code",
   "execution_count": 47,
   "metadata": {
    "executionInfo": {
     "elapsed": 743,
     "status": "ok",
     "timestamp": 1625028559601,
     "user": {
      "displayName": "Guruprasad G",
      "photoUrl": "https://lh3.googleusercontent.com/a-/AOh14GgIKqebW6jPdcnAVVp4f7tNOulz7_njQ-p26wPA=s64",
      "userId": "08997559224978829775"
     },
     "user_tz": -330
    },
    "id": "9k8dftRNg9xZ"
   },
   "outputs": [],
   "source": [
    "def getImportantFeatures(clf, count_vector):\n",
    "    zipped_values=list(zip(count_vector.get_feature_names(), clf.feature_importances_))\n",
    "    sorted_values=sorted(zipped_values, key=lambda x: x[1], reverse=True)\n",
    "    \n",
    "    return pd.DataFrame(sorted_values, \n",
    "                        columns=['Features', 'Gini Importance'], \n",
    "                        index=np.arange(1, len(sorted_values)+1))[:20]"
   ]
  },
  {
   "cell_type": "code",
   "execution_count": 48,
   "metadata": {
    "executionInfo": {
     "elapsed": 22,
     "status": "ok",
     "timestamp": 1625028559602,
     "user": {
      "displayName": "Guruprasad G",
      "photoUrl": "https://lh3.googleusercontent.com/a-/AOh14GgIKqebW6jPdcnAVVp4f7tNOulz7_njQ-p26wPA=s64",
      "userId": "08997559224978829775"
     },
     "user_tz": -330
    },
    "id": "cyxc0QdCg9xZ"
   },
   "outputs": [],
   "source": [
    "def displayWordCould(df):\n",
    "    wordCloud = WordCloud(collocations = False, background_color = 'white')\\\n",
    "                            .generate(' '.join(df))\n",
    "\n",
    "    # Display the generated Word Cloud\n",
    "    plt.figure(figsize=(10,8))\n",
    "    plt.imshow(wordCloud, interpolation='bilinear')\n",
    "    plt.axis(\"off\")\n",
    "    plt.show('\\n')"
   ]
  },
  {
   "cell_type": "markdown",
   "metadata": {
    "id": "8YoGGV7hLs4L"
   },
   "source": [
    "### [5.2.1] Applying XGBOOST on BOW,<font color='red'> SET 1</font>"
   ]
  },
  {
   "cell_type": "code",
   "execution_count": null,
   "metadata": {
    "colab": {
     "base_uri": "https://localhost:8080/",
     "height": 872
    },
    "executionInfo": {
     "elapsed": 3188565,
     "status": "ok",
     "timestamp": 1624937312355,
     "user": {
      "displayName": "Guruprasad G",
      "photoUrl": "https://lh3.googleusercontent.com/a-/AOh14GgIKqebW6jPdcnAVVp4f7tNOulz7_njQ-p26wPA=s64",
      "userId": "08997559224978829775"
     },
     "user_tz": -330
    },
    "id": "KAxKETrMLs4L",
    "outputId": "3a97415b-ea23-4279-a7bc-c335cb994039"
   },
   "outputs": [
    {
     "name": "stdout",
     "output_type": "stream",
     "text": [
      "[02:35:24] WARNING: ../src/learner.cc:1095: Starting in XGBoost 1.3.0, the default evaluation metric used with the objective 'binary:logistic' was changed from 'error' to 'logloss'. Explicitly set eval_metric if you'd like to restore the old behavior.\n",
      "Fitting 5 folds for each of 16 candidates, totalling 80 fits\n"
     ]
    },
    {
     "name": "stderr",
     "output_type": "stream",
     "text": [
      "[Parallel(n_jobs=-1)]: Using backend LokyBackend with 2 concurrent workers.\n",
      "[Parallel(n_jobs=-1)]: Done  46 tasks      | elapsed: 26.4min\n",
      "[Parallel(n_jobs=-1)]: Done  80 out of  80 | elapsed: 52.7min finished\n"
     ]
    },
    {
     "name": "stdout",
     "output_type": "stream",
     "text": [
      "Best parameters are: {'booster': 'gbtree', 'eval_metric': 'auc', 'max_depth': 10, 'n_estimators': 500, 'predictor': 'auto', 'scale_pos_weight': 0.2, 'tree_method': 'hist'}\n"
     ]
    },
    {
     "data": {
      "image/png": "[encoded data removed]",
      "text/plain": [
       "<Figure size 1008x504 with 4 Axes>"
      ]
     },
     "metadata": {
      "needs_background": "light",
      "tags": []
     },
     "output_type": "display_data"
    },
    {
     "data": {
      "image/png": "[encoded data removed]",
      "text/plain": [
       "<Figure size 432x288 with 1 Axes>"
      ]
     },
     "metadata": {
      "needs_background": "light",
      "tags": []
     },
     "output_type": "display_data"
    }
   ],
   "source": [
    "optimum_params_bow_xgb=XGBGridsearchcv(bow_train, Y_train, bow_test, Y_test)"
   ]
  },
  {
   "cell_type": "code",
   "execution_count": null,
   "metadata": {
    "colab": {
     "base_uri": "https://localhost:8080/",
     "height": 603
    },
    "executionInfo": {
     "elapsed": 17782,
     "status": "ok",
     "timestamp": 1624937330133,
     "user": {
      "displayName": "Guruprasad G",
      "photoUrl": "https://lh3.googleusercontent.com/a-/AOh14GgIKqebW6jPdcnAVVp4f7tNOulz7_njQ-p26wPA=s64",
      "userId": "08997559224978829775"
     },
     "user_tz": -330
    },
    "id": "CEdcNy9qg9xZ",
    "outputId": "24eb2ecc-52f4-4a94-a7f9-04a584a51fb5"
   },
   "outputs": [
    {
     "name": "stdout",
     "output_type": "stream",
     "text": [
      "Best AUC score on optimum parameters is: 0.96761\n"
     ]
    },
    {
     "data": {
      "image/png": "[encoded data removed]",
      "text/plain": [
       "<Figure size 432x288 with 1 Axes>"
      ]
     },
     "metadata": {
      "needs_background": "light",
      "tags": []
     },
     "output_type": "display_data"
    },
    {
     "data": {
      "image/png": "[encoded data removed]",
      "text/plain": [
       "<Figure size 432x288 with 2 Axes>"
      ]
     },
     "metadata": {
      "needs_background": "light",
      "tags": []
     },
     "output_type": "display_data"
    }
   ],
   "source": [
    "xgbClassifireModel(bow_train, Y_train, bow_test, Y_test, optimum_params_bow_xgb)"
   ]
  },
  {
   "cell_type": "code",
   "execution_count": null,
   "metadata": {
    "colab": {
     "base_uri": "https://localhost:8080/",
     "height": 962
    },
    "executionInfo": {
     "elapsed": 2078,
     "status": "ok",
     "timestamp": 1624937332205,
     "user": {
      "displayName": "Guruprasad G",
      "photoUrl": "https://lh3.googleusercontent.com/a-/AOh14GgIKqebW6jPdcnAVVp4f7tNOulz7_njQ-p26wPA=s64",
      "userId": "08997559224978829775"
     },
     "user_tz": -330
    },
    "id": "u_7RRwbQg9xZ",
    "outputId": "250d3b94-113f-42bf-ec03-7ad5f90b5a0b"
   },
   "outputs": [
    {
     "data": {
      "image/png": "[encoded data removed]",
      "text/plain": [
       "<Figure size 720x576 with 1 Axes>"
      ]
     },
     "metadata": {
      "needs_background": "light",
      "tags": []
     },
     "output_type": "display_data"
    },
    {
     "data": {
      "text/html": [
       "<div>\n",
       "<style scoped>\n",
       "    .dataframe tbody tr th:only-of-type {\n",
       "        vertical-align: middle;\n",
       "    }\n",
       "\n",
       "    .dataframe tbody tr th {\n",
       "        vertical-align: top;\n",
       "    }\n",
       "\n",
       "    .dataframe thead th {\n",
       "        text-align: right;\n",
       "    }\n",
       "</style>\n",
       "<table border=\"1\" class=\"dataframe\">\n",
       "  <thead>\n",
       "    <tr style=\"text-align: right;\">\n",
       "      <th></th>\n",
       "      <th>Features</th>\n",
       "      <th>Gini Importance</th>\n",
       "    </tr>\n",
       "  </thead>\n",
       "  <tbody>\n",
       "    <tr>\n",
       "      <th>1</th>\n",
       "      <td>delicious</td>\n",
       "      <td>0.012141</td>\n",
       "    </tr>\n",
       "    <tr>\n",
       "      <th>2</th>\n",
       "      <td>earth</td>\n",
       "      <td>0.011211</td>\n",
       "    </tr>\n",
       "    <tr>\n",
       "      <th>3</th>\n",
       "      <td>not disappointed</td>\n",
       "      <td>0.007945</td>\n",
       "    </tr>\n",
       "    <tr>\n",
       "      <th>4</th>\n",
       "      <td>perfect</td>\n",
       "      <td>0.007721</td>\n",
       "    </tr>\n",
       "    <tr>\n",
       "      <th>5</th>\n",
       "      <td>best</td>\n",
       "      <td>0.007156</td>\n",
       "    </tr>\n",
       "    <tr>\n",
       "      <th>6</th>\n",
       "      <td>highly</td>\n",
       "      <td>0.006980</td>\n",
       "    </tr>\n",
       "    <tr>\n",
       "      <th>7</th>\n",
       "      <td>excellent</td>\n",
       "      <td>0.006839</td>\n",
       "    </tr>\n",
       "    <tr>\n",
       "      <th>8</th>\n",
       "      <td>great idea</td>\n",
       "      <td>0.006571</td>\n",
       "    </tr>\n",
       "    <tr>\n",
       "      <th>9</th>\n",
       "      <td>disappointed</td>\n",
       "      <td>0.006553</td>\n",
       "    </tr>\n",
       "    <tr>\n",
       "      <th>10</th>\n",
       "      <td>yummy</td>\n",
       "      <td>0.006270</td>\n",
       "    </tr>\n",
       "    <tr>\n",
       "      <th>11</th>\n",
       "      <td>wonderful</td>\n",
       "      <td>0.005869</td>\n",
       "    </tr>\n",
       "    <tr>\n",
       "      <th>12</th>\n",
       "      <td>worst</td>\n",
       "      <td>0.005821</td>\n",
       "    </tr>\n",
       "    <tr>\n",
       "      <th>13</th>\n",
       "      <td>easy</td>\n",
       "      <td>0.005625</td>\n",
       "    </tr>\n",
       "    <tr>\n",
       "      <th>14</th>\n",
       "      <td>horrible</td>\n",
       "      <td>0.005463</td>\n",
       "    </tr>\n",
       "    <tr>\n",
       "      <th>15</th>\n",
       "      <td>waste</td>\n",
       "      <td>0.005461</td>\n",
       "    </tr>\n",
       "    <tr>\n",
       "      <th>16</th>\n",
       "      <td>awful</td>\n",
       "      <td>0.005110</td>\n",
       "    </tr>\n",
       "    <tr>\n",
       "      <th>17</th>\n",
       "      <td>loves</td>\n",
       "      <td>0.004850</td>\n",
       "    </tr>\n",
       "    <tr>\n",
       "      <th>18</th>\n",
       "      <td>bad</td>\n",
       "      <td>0.004814</td>\n",
       "    </tr>\n",
       "    <tr>\n",
       "      <th>19</th>\n",
       "      <td>favorite</td>\n",
       "      <td>0.004735</td>\n",
       "    </tr>\n",
       "    <tr>\n",
       "      <th>20</th>\n",
       "      <td>disappointing</td>\n",
       "      <td>0.004659</td>\n",
       "    </tr>\n",
       "  </tbody>\n",
       "</table>\n",
       "</div>"
      ],
      "text/plain": [
       "            Features  Gini Importance\n",
       "1          delicious         0.012141\n",
       "2              earth         0.011211\n",
       "3   not disappointed         0.007945\n",
       "4            perfect         0.007721\n",
       "5               best         0.007156\n",
       "6             highly         0.006980\n",
       "7          excellent         0.006839\n",
       "8         great idea         0.006571\n",
       "9       disappointed         0.006553\n",
       "10             yummy         0.006270\n",
       "11         wonderful         0.005869\n",
       "12             worst         0.005821\n",
       "13              easy         0.005625\n",
       "14          horrible         0.005463\n",
       "15             waste         0.005461\n",
       "16             awful         0.005110\n",
       "17             loves         0.004850\n",
       "18               bad         0.004814\n",
       "19          favorite         0.004735\n",
       "20     disappointing         0.004659"
      ]
     },
     "execution_count": 52,
     "metadata": {
      "tags": []
     },
     "output_type": "execute_result"
    }
   ],
   "source": [
    "imp_features_df=getImportantFeatures(xgb_clf, countVector)\n",
    "displayWordCould(imp_features_df['Features'])\n",
    "imp_features_df"
   ]
  },
  {
   "cell_type": "markdown",
   "metadata": {
    "id": "u5_lHeZuLs4N"
   },
   "source": [
    "### [5.2.2] Applying XGBOOST on TFIDF,<font color='red'> SET 2</font>"
   ]
  },
  {
   "cell_type": "code",
   "execution_count": 62,
   "metadata": {
    "colab": {
     "base_uri": "https://localhost:8080/",
     "height": 872
    },
    "executionInfo": {
     "elapsed": 12535442,
     "status": "ok",
     "timestamp": 1625042531342,
     "user": {
      "displayName": "Guruprasad G",
      "photoUrl": "https://lh3.googleusercontent.com/a-/AOh14GgIKqebW6jPdcnAVVp4f7tNOulz7_njQ-p26wPA=s64",
      "userId": "08997559224978829775"
     },
     "user_tz": -330
    },
    "id": "94IpgcgPLs4N",
    "outputId": "8fba8b59-7902-4400-a5cd-3751d602026a"
   },
   "outputs": [
    {
     "name": "stdout",
     "output_type": "stream",
     "text": [
      "[05:13:18] WARNING: ../src/learner.cc:1095: Starting in XGBoost 1.3.0, the default evaluation metric used with the objective 'binary:logistic' was changed from 'error' to 'logloss'. Explicitly set eval_metric if you'd like to restore the old behavior.\n",
      "Fitting 5 folds for each of 16 candidates, totalling 80 fits\n"
     ]
    },
    {
     "name": "stderr",
     "output_type": "stream",
     "text": [
      "[Parallel(n_jobs=-1)]: Using backend LokyBackend with 2 concurrent workers.\n",
      "[Parallel(n_jobs=-1)]: Done  46 tasks      | elapsed: 107.7min\n",
      "[Parallel(n_jobs=-1)]: Done  80 out of  80 | elapsed: 207.0min finished\n"
     ]
    },
    {
     "name": "stdout",
     "output_type": "stream",
     "text": [
      "Best parameters are: {'booster': 'gbtree', 'eval_metric': 'auc', 'max_depth': 10, 'n_estimators': 400, 'objective': 'binary:logistic', 'predictor': 'cpu_predictor', 'scale_pos_weight': 0.2, 'tree_method': 'hist'}\n"
     ]
    },
    {
     "data": {
      "image/png": "[encoded data removed]",
      "text/plain": [
       "<Figure size 1008x504 with 4 Axes>"
      ]
     },
     "metadata": {
      "needs_background": "light",
      "tags": []
     },
     "output_type": "display_data"
    },
    {
     "data": {
      "image/png": "[encoded data removed]",
      "text/plain": [
       "<Figure size 432x288 with 1 Axes>"
      ]
     },
     "metadata": {
      "needs_background": "light",
      "tags": []
     },
     "output_type": "display_data"
    }
   ],
   "source": [
    "optimum_params_tfidf_xgb=XGBGridsearchcv(tfidf_train, Y_train, tfidf_test, Y_test)"
   ]
  },
  {
   "cell_type": "code",
   "execution_count": 63,
   "metadata": {
    "colab": {
     "base_uri": "https://localhost:8080/",
     "height": 603
    },
    "executionInfo": {
     "elapsed": 83657,
     "status": "ok",
     "timestamp": 1625042622331,
     "user": {
      "displayName": "Guruprasad G",
      "photoUrl": "https://lh3.googleusercontent.com/a-/AOh14GgIKqebW6jPdcnAVVp4f7tNOulz7_njQ-p26wPA=s64",
      "userId": "08997559224978829775"
     },
     "user_tz": -330
    },
    "id": "VtXObNqwg9xa",
    "outputId": "66cdcc4e-e969-4573-8625-0b885c06ed6c"
   },
   "outputs": [
    {
     "name": "stdout",
     "output_type": "stream",
     "text": [
      "Best AUC score on optimum parameters is: 0.93561\n"
     ]
    },
    {
     "data": {
      "image/png": "[encoded data removed]",
      "text/plain": [
       "<Figure size 432x288 with 1 Axes>"
      ]
     },
     "metadata": {
      "needs_background": "light",
      "tags": []
     },
     "output_type": "display_data"
    },
    {
     "data": {
      "image/png": "[encoded data removed]",
      "text/plain": [
       "<Figure size 432x288 with 2 Axes>"
      ]
     },
     "metadata": {
      "needs_background": "light",
      "tags": []
     },
     "output_type": "display_data"
    }
   ],
   "source": [
    "xgbClassifireModel(tfidf_train, Y_train,  tfidf_test, Y_test, optimum_params_tfidf_xgb)"
   ]
  },
  {
   "cell_type": "code",
   "execution_count": 64,
   "metadata": {
    "colab": {
     "base_uri": "https://localhost:8080/",
     "height": 962
    },
    "executionInfo": {
     "elapsed": 1490,
     "status": "ok",
     "timestamp": 1625042623812,
     "user": {
      "displayName": "Guruprasad G",
      "photoUrl": "https://lh3.googleusercontent.com/a-/AOh14GgIKqebW6jPdcnAVVp4f7tNOulz7_njQ-p26wPA=s64",
      "userId": "08997559224978829775"
     },
     "user_tz": -330
    },
    "id": "2z8-HIE_g9xa",
    "outputId": "f354bec1-0922-4b0a-ad81-3d3cec90a5e2"
   },
   "outputs": [
    {
     "data": {
      "image/png": "[encoded data removed]",
      "text/plain": [
       "<Figure size 720x576 with 1 Axes>"
      ]
     },
     "metadata": {
      "needs_background": "light",
      "tags": []
     },
     "output_type": "display_data"
    },
    {
     "data": {
      "text/html": [
       "<div>\n",
       "<style scoped>\n",
       "    .dataframe tbody tr th:only-of-type {\n",
       "        vertical-align: middle;\n",
       "    }\n",
       "\n",
       "    .dataframe tbody tr th {\n",
       "        vertical-align: top;\n",
       "    }\n",
       "\n",
       "    .dataframe thead th {\n",
       "        text-align: right;\n",
       "    }\n",
       "</style>\n",
       "<table border=\"1\" class=\"dataframe\">\n",
       "  <thead>\n",
       "    <tr style=\"text-align: right;\">\n",
       "      <th></th>\n",
       "      <th>Features</th>\n",
       "      <th>Gini Importance</th>\n",
       "    </tr>\n",
       "  </thead>\n",
       "  <tbody>\n",
       "    <tr>\n",
       "      <th>1</th>\n",
       "      <td>perfect</td>\n",
       "      <td>0.018960</td>\n",
       "    </tr>\n",
       "    <tr>\n",
       "      <th>2</th>\n",
       "      <td>delicious</td>\n",
       "      <td>0.018389</td>\n",
       "    </tr>\n",
       "    <tr>\n",
       "      <th>3</th>\n",
       "      <td>yummy</td>\n",
       "      <td>0.016835</td>\n",
       "    </tr>\n",
       "    <tr>\n",
       "      <th>4</th>\n",
       "      <td>excellent</td>\n",
       "      <td>0.013616</td>\n",
       "    </tr>\n",
       "    <tr>\n",
       "      <th>5</th>\n",
       "      <td>disappointed</td>\n",
       "      <td>0.011967</td>\n",
       "    </tr>\n",
       "    <tr>\n",
       "      <th>6</th>\n",
       "      <td>best</td>\n",
       "      <td>0.011890</td>\n",
       "    </tr>\n",
       "    <tr>\n",
       "      <th>7</th>\n",
       "      <td>loves</td>\n",
       "      <td>0.011021</td>\n",
       "    </tr>\n",
       "    <tr>\n",
       "      <th>8</th>\n",
       "      <td>bad</td>\n",
       "      <td>0.010266</td>\n",
       "    </tr>\n",
       "    <tr>\n",
       "      <th>9</th>\n",
       "      <td>favorite</td>\n",
       "      <td>0.010205</td>\n",
       "    </tr>\n",
       "    <tr>\n",
       "      <th>10</th>\n",
       "      <td>easy</td>\n",
       "      <td>0.010192</td>\n",
       "    </tr>\n",
       "    <tr>\n",
       "      <th>11</th>\n",
       "      <td>wonderful</td>\n",
       "      <td>0.009872</td>\n",
       "    </tr>\n",
       "    <tr>\n",
       "      <th>12</th>\n",
       "      <td>highly</td>\n",
       "      <td>0.009382</td>\n",
       "    </tr>\n",
       "    <tr>\n",
       "      <th>13</th>\n",
       "      <td>amazing</td>\n",
       "      <td>0.008996</td>\n",
       "    </tr>\n",
       "    <tr>\n",
       "      <th>14</th>\n",
       "      <td>nice</td>\n",
       "      <td>0.008914</td>\n",
       "    </tr>\n",
       "    <tr>\n",
       "      <th>15</th>\n",
       "      <td>awesome</td>\n",
       "      <td>0.008235</td>\n",
       "    </tr>\n",
       "    <tr>\n",
       "      <th>16</th>\n",
       "      <td>not buy</td>\n",
       "      <td>0.007738</td>\n",
       "    </tr>\n",
       "    <tr>\n",
       "      <th>17</th>\n",
       "      <td>smooth</td>\n",
       "      <td>0.007099</td>\n",
       "    </tr>\n",
       "    <tr>\n",
       "      <th>18</th>\n",
       "      <td>yum</td>\n",
       "      <td>0.006917</td>\n",
       "    </tr>\n",
       "    <tr>\n",
       "      <th>19</th>\n",
       "      <td>great</td>\n",
       "      <td>0.006523</td>\n",
       "    </tr>\n",
       "    <tr>\n",
       "      <th>20</th>\n",
       "      <td>love</td>\n",
       "      <td>0.006504</td>\n",
       "    </tr>\n",
       "  </tbody>\n",
       "</table>\n",
       "</div>"
      ],
      "text/plain": [
       "        Features  Gini Importance\n",
       "1        perfect         0.018960\n",
       "2      delicious         0.018389\n",
       "3          yummy         0.016835\n",
       "4      excellent         0.013616\n",
       "5   disappointed         0.011967\n",
       "6           best         0.011890\n",
       "7          loves         0.011021\n",
       "8            bad         0.010266\n",
       "9       favorite         0.010205\n",
       "10          easy         0.010192\n",
       "11     wonderful         0.009872\n",
       "12        highly         0.009382\n",
       "13       amazing         0.008996\n",
       "14          nice         0.008914\n",
       "15       awesome         0.008235\n",
       "16       not buy         0.007738\n",
       "17        smooth         0.007099\n",
       "18           yum         0.006917\n",
       "19         great         0.006523\n",
       "20          love         0.006504"
      ]
     },
     "execution_count": 64,
     "metadata": {
      "tags": []
     },
     "output_type": "execute_result"
    }
   ],
   "source": [
    "imp_features_df=getImportantFeatures(xgb_clf, tfidfVector)\n",
    "displayWordCould(imp_features_df['Features'])\n",
    "imp_features_df"
   ]
  },
  {
   "cell_type": "markdown",
   "metadata": {
    "id": "3b6-rEyILs4O"
   },
   "source": [
    "### [5.2.3] Applying XGBOOST on AVG W2V,<font color='red'> SET 3</font>"
   ]
  },
  {
   "cell_type": "code",
   "execution_count": null,
   "metadata": {
    "id": "AFxy86lJg9xa"
   },
   "outputs": [],
   "source": [
    "avgw2v_train, avgw2v_test, tfidf_w2v_train, tfidf_w2v_test=map(np.array, [avgw2v_train, avgw2v_test, tfidf_w2v_train, tfidf_w2v_test])"
   ]
  },
  {
   "cell_type": "code",
   "execution_count": null,
   "metadata": {
    "colab": {
     "base_uri": "https://localhost:8080/",
     "height": 872
    },
    "executionInfo": {
     "elapsed": 2904854,
     "status": "ok",
     "timestamp": 1624961214196,
     "user": {
      "displayName": "Guruprasad G",
      "photoUrl": "https://lh3.googleusercontent.com/a-/AOh14GgIKqebW6jPdcnAVVp4f7tNOulz7_njQ-p26wPA=s64",
      "userId": "08997559224978829775"
     },
     "user_tz": -330
    },
    "id": "3VJr_CE5Ls4P",
    "outputId": "b20d2527-9d1c-4542-92ea-7cfba050bbcb"
   },
   "outputs": [
    {
     "name": "stdout",
     "output_type": "stream",
     "text": [
      "[09:18:30] WARNING: ../src/learner.cc:1095: Starting in XGBoost 1.3.0, the default evaluation metric used with the objective 'binary:logistic' was changed from 'error' to 'logloss'. Explicitly set eval_metric if you'd like to restore the old behavior.\n",
      "Fitting 5 folds for each of 16 candidates, totalling 80 fits\n"
     ]
    },
    {
     "name": "stderr",
     "output_type": "stream",
     "text": [
      "[Parallel(n_jobs=-1)]: Using backend LokyBackend with 2 concurrent workers.\n",
      "[Parallel(n_jobs=-1)]: Done  46 tasks      | elapsed: 26.6min\n",
      "[Parallel(n_jobs=-1)]: Done  80 out of  80 | elapsed: 47.4min finished\n"
     ]
    },
    {
     "name": "stdout",
     "output_type": "stream",
     "text": [
      "Best parameters are: {'booster': 'gbtree', 'eval_metric': 'auc', 'max_depth': 10, 'n_estimators': 600, 'predictor': 'auto', 'scale_pos_weight': 0.2, 'tree_method': 'hist'}\n"
     ]
    },
    {
     "data": {
      "image/png": "[encoded data removed]",
      "text/plain": [
       "<Figure size 1008x504 with 4 Axes>"
      ]
     },
     "metadata": {
      "needs_background": "light",
      "tags": []
     },
     "output_type": "display_data"
    },
    {
     "data": {
      "image/png": "[encoded data removed]",
      "text/plain": [
       "<Figure size 432x288 with 1 Axes>"
      ]
     },
     "metadata": {
      "needs_background": "light",
      "tags": []
     },
     "output_type": "display_data"
    }
   ],
   "source": [
    "optimum_params_avgw2v_xgb=XGBGridsearchcv(avgw2v_train, Y_train, avgw2v_test, Y_test)"
   ]
  },
  {
   "cell_type": "code",
   "execution_count": null,
   "metadata": {
    "colab": {
     "base_uri": "https://localhost:8080/",
     "height": 603
    },
    "executionInfo": {
     "elapsed": 22754,
     "status": "ok",
     "timestamp": 1624961236944,
     "user": {
      "displayName": "Guruprasad G",
      "photoUrl": "https://lh3.googleusercontent.com/a-/AOh14GgIKqebW6jPdcnAVVp4f7tNOulz7_njQ-p26wPA=s64",
      "userId": "08997559224978829775"
     },
     "user_tz": -330
    },
    "id": "045dm5MGg9xb",
    "outputId": "c532cb41-c97f-443b-8f28-5ef7b12a4fe9"
   },
   "outputs": [
    {
     "name": "stdout",
     "output_type": "stream",
     "text": [
      "Best AUC score on optimum parameters is: 0.92951\n"
     ]
    },
    {
     "data": {
      "image/png": "[encoded data removed]",
      "text/plain": [
       "<Figure size 432x288 with 1 Axes>"
      ]
     },
     "metadata": {
      "needs_background": "light",
      "tags": []
     },
     "output_type": "display_data"
    },
    {
     "data": {
      "image/png": "[encoded data removed]",
      "text/plain": [
       "<Figure size 432x288 with 2 Axes>"
      ]
     },
     "metadata": {
      "needs_background": "light",
      "tags": []
     },
     "output_type": "display_data"
    }
   ],
   "source": [
    "xgbClassifireModel(avgw2v_train, Y_train, avgw2v_test, Y_test, optimum_params_avgw2v_xgb)"
   ]
  },
  {
   "cell_type": "markdown",
   "metadata": {
    "id": "XchPt9RDLs4R"
   },
   "source": [
    "### [5.2.4] Applying XGBOOST on TFIDF W2V,<font color='red'> SET 4</font>"
   ]
  },
  {
   "cell_type": "code",
   "execution_count": null,
   "metadata": {
    "colab": {
     "base_uri": "https://localhost:8080/",
     "height": 872
    },
    "executionInfo": {
     "elapsed": 3230944,
     "status": "ok",
     "timestamp": 1624958283273,
     "user": {
      "displayName": "Guruprasad G",
      "photoUrl": "https://lh3.googleusercontent.com/a-/AOh14GgIKqebW6jPdcnAVVp4f7tNOulz7_njQ-p26wPA=s64",
      "userId": "08997559224978829775"
     },
     "user_tz": -330
    },
    "id": "r6Rjjal3Ls4R",
    "outputId": "d573a744-3693-4751-af2d-398b245b58b9"
   },
   "outputs": [
    {
     "name": "stdout",
     "output_type": "stream",
     "text": [
      "[08:24:13] WARNING: ../src/learner.cc:1095: Starting in XGBoost 1.3.0, the default evaluation metric used with the objective 'binary:logistic' was changed from 'error' to 'logloss'. Explicitly set eval_metric if you'd like to restore the old behavior.\n",
      "Fitting 5 folds for each of 16 candidates, totalling 80 fits\n"
     ]
    },
    {
     "name": "stderr",
     "output_type": "stream",
     "text": [
      "[Parallel(n_jobs=-1)]: Using backend LokyBackend with 2 concurrent workers.\n",
      "[Parallel(n_jobs=-1)]: Done  46 tasks      | elapsed: 29.9min\n",
      "[Parallel(n_jobs=-1)]: Done  80 out of  80 | elapsed: 52.8min finished\n"
     ]
    },
    {
     "name": "stdout",
     "output_type": "stream",
     "text": [
      "Best parameters are: {'booster': 'gbtree', 'eval_metric': 'auc', 'max_depth': 10, 'n_estimators': 600, 'predictor': 'auto', 'scale_pos_weight': 0.2, 'tree_method': 'hist'}\n"
     ]
    },
    {
     "data": {
      "image/png": "[encoded data removed]",
      "text/plain": [
       "<Figure size 1008x504 with 4 Axes>"
      ]
     },
     "metadata": {
      "needs_background": "light",
      "tags": []
     },
     "output_type": "display_data"
    },
    {
     "data": {
      "image/png": "[encoded data removed]",
      "text/plain": [
       "<Figure size 432x288 with 1 Axes>"
      ]
     },
     "metadata": {
      "needs_background": "light",
      "tags": []
     },
     "output_type": "display_data"
    }
   ],
   "source": [
    "optimum_params_tfidf_avgw2v_xgb=XGBGridsearchcv(tfidf_w2v_train, Y_train, tfidf_w2v_test, Y_test)"
   ]
  },
  {
   "cell_type": "code",
   "execution_count": null,
   "metadata": {
    "colab": {
     "base_uri": "https://localhost:8080/",
     "height": 603
    },
    "executionInfo": {
     "elapsed": 26089,
     "status": "ok",
     "timestamp": 1624958309350,
     "user": {
      "displayName": "Guruprasad G",
      "photoUrl": "https://lh3.googleusercontent.com/a-/AOh14GgIKqebW6jPdcnAVVp4f7tNOulz7_njQ-p26wPA=s64",
      "userId": "08997559224978829775"
     },
     "user_tz": -330
    },
    "id": "xASWIMDWg9xb",
    "outputId": "1a950aa4-b0c2-46f1-eff9-2eadae846ad1"
   },
   "outputs": [
    {
     "name": "stdout",
     "output_type": "stream",
     "text": [
      "Best AUC score on optimum parameters is: 0.88398\n"
     ]
    },
    {
     "data": {
      "image/png": "[encoded data removed]",
      "text/plain": [
       "<Figure size 432x288 with 1 Axes>"
      ]
     },
     "metadata": {
      "needs_background": "light",
      "tags": []
     },
     "output_type": "display_data"
    },
    {
     "data": {
      "image/png": "[encoded data removed]",
      "text/plain": [
       "<Figure size 432x288 with 2 Axes>"
      ]
     },
     "metadata": {
      "needs_background": "light",
      "tags": []
     },
     "output_type": "display_data"
    }
   ],
   "source": [
    "xgbClassifireModel(tfidf_w2v_train, Y_train, tfidf_w2v_test, Y_test, optimum_params_tfidf_avgw2v_xgb)"
   ]
  },
  {
   "cell_type": "code",
   "execution_count": 65,
   "metadata": {
    "colab": {
     "base_uri": "https://localhost:8080/"
    },
    "executionInfo": {
     "elapsed": 436,
     "status": "ok",
     "timestamp": 1625042675207,
     "user": {
      "displayName": "Guruprasad G",
      "photoUrl": "https://lh3.googleusercontent.com/a-/AOh14GgIKqebW6jPdcnAVVp4f7tNOulz7_njQ-p26wPA=s64",
      "userId": "08997559224978829775"
     },
     "user_tz": -330
    },
    "id": "kMBho-LiLs4T",
    "outputId": "6b055e9d-a619-4bb8-90dd-8cd7724e4185"
   },
   "outputs": [
    {
     "name": "stdout",
     "output_type": "stream",
     "text": [
      "+---------+--------------+-----------+-------------------------+----------------+\n",
      "|  Model  |  Vectorizer  | Max Depth | Number of Base learners | Test AUC score |\n",
      "+---------+--------------+-----------+-------------------------+----------------+\n",
      "| XGBoost |     bow      |     10    |           500           |    0.96761     |\n",
      "| XGBoost |    tfidf     |     10    |           400           |    0.93561     |\n",
      "| XGBoost |   avg_w2v    |     10    |           600           |    0.92951     |\n",
      "| XGBoost | tfidf_avgw2v |     10    |           600           |    0.88398     |\n",
      "+---------+--------------+-----------+-------------------------+----------------+\n"
     ]
    }
   ],
   "source": [
    "from prettytable import PrettyTable\n",
    "x= PrettyTable()\n",
    "x.field_names=['Model', 'Vectorizer', 'Max Depth', 'Number of Base learners', 'Test AUC score']\n",
    "\n",
    "x.add_row(['XGBoost', 'bow', '10', '500', '0.96761'])\n",
    "x.add_row(['XGBoost','tfidf', '10' ,'400' ,'0.93561'])\n",
    "x.add_row(['XGBoost','avg_w2v', '10' ,'600' ,'0.92951'])\n",
    "x.add_row(['XGBoost','tfidf_avgw2v', '10' ,'600' ,'0.88398'])\n",
    "\n",
    "print(x)"
   ]
  },
  {
   "cell_type": "markdown",
   "metadata": {
    "id": "AMpRCS_sLs4T"
   },
   "source": [
    "# [6] Conclusions"
   ]
  },
  {
   "cell_type": "markdown",
   "metadata": {},
   "source": [
    "- BagOfWords represntation of vectors yielded maximum AUC score of 0.96761\n",
    "- Top features on BoW and tfidf are almost same\n",
    "- XGBoost can be implemented using GPU but we used CPU to bulid this model"
   ]
  },
  {
   "cell_type": "code",
   "execution_count": null,
   "metadata": {},
   "outputs": [],
   "source": []
  }
 ],
 "metadata": {
  "colab": {
   "collapsed_sections": [
    "B54glUYgLs2N",
    "BjI7UhwyLs2z",
    "WNlQvs_7Ls3K",
    "1zx3OJ8aLs3L",
    "-FO3JMH0Ls3p",
    "QGccvBKTLs3y",
    "TZ7mLBDgLs35",
    "tzS18bQ3Ls37"
   ],
   "name": "Copy of Copy of XGBOOSTonAmazonFineFoodReview.ipynb",
   "provenance": [
    {
     "file_id": "1Xp8xZPqMtHLAum-Eu9gJ7M1M9BLM5gmK",
     "timestamp": 1625042797862
    },
    {
     "file_id": "1ZPUHJddolo405fWKo5Q5XA2lxRpk2nRk",
     "timestamp": 1624872333270
    }
   ]
  },
  "kernelspec": {
   "display_name": "Python 3 (ipykernel)",
   "language": "python",
   "name": "python3"
  },
  "language_info": {
   "codemirror_mode": {
    "name": "ipython",
    "version": 3
   },
   "file_extension": ".py",
   "mimetype": "text/x-python",
   "name": "python",
   "nbconvert_exporter": "python",
   "pygments_lexer": "ipython3",
   "version": "3.8.12"
  }
 },
 "nbformat": 4,
 "nbformat_minor": 1
}
